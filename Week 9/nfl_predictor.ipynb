{
 "cells": [
  {
   "cell_type": "code",
   "execution_count": 1,
   "metadata": {},
   "outputs": [],
   "source": [
    "import os\n",
    "import pickle\n",
    "import pandas as pd\n",
    "import numpy as np\n",
    "import xgboost as xgb\n",
    "from sklearn import metrics\n",
    "from sklearn.preprocessing import MinMaxScaler\n",
    "from sklearn.model_selection import train_test_split, cross_validate\n",
    "from sklearn.ensemble import RandomForestClassifier, GradientBoostingClassifier, ExtraTreesClassifier, AdaBoostClassifier, VotingClassifier, BaggingClassifier\n",
    "from sklearn.linear_model import LogisticRegression, LogisticRegressionCV\n",
    "from sklearn.tree import DecisionTreeClassifier\n",
    "from sklearn.neural_network import MLPClassifier\n",
    "from sklearn.neighbors import KNeighborsClassifier"
   ]
  },
  {
   "cell_type": "code",
   "execution_count": 2,
   "metadata": {},
   "outputs": [
    {
     "data": {
      "text/html": [
       "<div>\n",
       "<style scoped>\n",
       "    .dataframe tbody tr th:only-of-type {\n",
       "        vertical-align: middle;\n",
       "    }\n",
       "\n",
       "    .dataframe tbody tr th {\n",
       "        vertical-align: top;\n",
       "    }\n",
       "\n",
       "    .dataframe thead th {\n",
       "        text-align: right;\n",
       "    }\n",
       "</style>\n",
       "<table border=\"1\" class=\"dataframe\">\n",
       "  <thead>\n",
       "    <tr style=\"text-align: right;\">\n",
       "      <th></th>\n",
       "      <th>Home</th>\n",
       "      <th>Away</th>\n",
       "      <th>Home Elo</th>\n",
       "      <th>Away Elo</th>\n",
       "      <th>Home %</th>\n",
       "      <th>Away %</th>\n",
       "      <th>Home Abbr</th>\n",
       "      <th>Away Abbr</th>\n",
       "      <th>Winner</th>\n",
       "      <th>Loser</th>\n",
       "      <th>Result</th>\n",
       "      <th>Week</th>\n",
       "      <th>Year</th>\n",
       "      <th>Home Score</th>\n",
       "      <th>Away Score</th>\n",
       "      <th>Correct</th>\n",
       "    </tr>\n",
       "  </thead>\n",
       "  <tbody>\n",
       "    <tr>\n",
       "      <th>0</th>\n",
       "      <td>New England Patriots</td>\n",
       "      <td>Pittsburgh Steelers</td>\n",
       "      <td>2054.935547</td>\n",
       "      <td>2000.0</td>\n",
       "      <td>0.5784</td>\n",
       "      <td>0.4216</td>\n",
       "      <td>nwe</td>\n",
       "      <td>pit</td>\n",
       "      <td>nwe</td>\n",
       "      <td>pit</td>\n",
       "      <td>1</td>\n",
       "      <td>1</td>\n",
       "      <td>2015</td>\n",
       "      <td>28.0</td>\n",
       "      <td>21.0</td>\n",
       "      <td>1</td>\n",
       "    </tr>\n",
       "    <tr>\n",
       "      <th>1</th>\n",
       "      <td>Chicago Bears</td>\n",
       "      <td>Green Bay Packers</td>\n",
       "      <td>2054.935547</td>\n",
       "      <td>2000.0</td>\n",
       "      <td>0.5784</td>\n",
       "      <td>0.4216</td>\n",
       "      <td>chi</td>\n",
       "      <td>gnb</td>\n",
       "      <td>gnb</td>\n",
       "      <td>chi</td>\n",
       "      <td>0</td>\n",
       "      <td>1</td>\n",
       "      <td>2015</td>\n",
       "      <td>23.0</td>\n",
       "      <td>31.0</td>\n",
       "      <td>0</td>\n",
       "    </tr>\n",
       "    <tr>\n",
       "      <th>2</th>\n",
       "      <td>St. Louis Rams</td>\n",
       "      <td>Seattle Seahawks</td>\n",
       "      <td>2054.935547</td>\n",
       "      <td>2000.0</td>\n",
       "      <td>0.5784</td>\n",
       "      <td>0.4216</td>\n",
       "      <td>ram</td>\n",
       "      <td>sea</td>\n",
       "      <td>ram</td>\n",
       "      <td>sea</td>\n",
       "      <td>1</td>\n",
       "      <td>1</td>\n",
       "      <td>2015</td>\n",
       "      <td>34.0</td>\n",
       "      <td>31.0</td>\n",
       "      <td>1</td>\n",
       "    </tr>\n",
       "    <tr>\n",
       "      <th>3</th>\n",
       "      <td>Washington Redskins</td>\n",
       "      <td>Miami Dolphins</td>\n",
       "      <td>2054.935547</td>\n",
       "      <td>2000.0</td>\n",
       "      <td>0.5784</td>\n",
       "      <td>0.4216</td>\n",
       "      <td>was</td>\n",
       "      <td>mia</td>\n",
       "      <td>mia</td>\n",
       "      <td>was</td>\n",
       "      <td>0</td>\n",
       "      <td>1</td>\n",
       "      <td>2015</td>\n",
       "      <td>10.0</td>\n",
       "      <td>17.0</td>\n",
       "      <td>0</td>\n",
       "    </tr>\n",
       "    <tr>\n",
       "      <th>4</th>\n",
       "      <td>Houston Texans</td>\n",
       "      <td>Kansas City Chiefs</td>\n",
       "      <td>2054.935547</td>\n",
       "      <td>2000.0</td>\n",
       "      <td>0.5784</td>\n",
       "      <td>0.4216</td>\n",
       "      <td>htx</td>\n",
       "      <td>kan</td>\n",
       "      <td>kan</td>\n",
       "      <td>htx</td>\n",
       "      <td>0</td>\n",
       "      <td>1</td>\n",
       "      <td>2015</td>\n",
       "      <td>20.0</td>\n",
       "      <td>27.0</td>\n",
       "      <td>0</td>\n",
       "    </tr>\n",
       "  </tbody>\n",
       "</table>\n",
       "</div>"
      ],
      "text/plain": [
       "                   Home                 Away     Home Elo  Away Elo  Home %  \\\n",
       "0  New England Patriots  Pittsburgh Steelers  2054.935547    2000.0  0.5784   \n",
       "1         Chicago Bears    Green Bay Packers  2054.935547    2000.0  0.5784   \n",
       "2        St. Louis Rams     Seattle Seahawks  2054.935547    2000.0  0.5784   \n",
       "3   Washington Redskins       Miami Dolphins  2054.935547    2000.0  0.5784   \n",
       "4        Houston Texans   Kansas City Chiefs  2054.935547    2000.0  0.5784   \n",
       "\n",
       "   Away % Home Abbr Away Abbr Winner Loser  Result  Week  Year  Home Score  \\\n",
       "0  0.4216       nwe       pit    nwe   pit       1     1  2015        28.0   \n",
       "1  0.4216       chi       gnb    gnb   chi       0     1  2015        23.0   \n",
       "2  0.4216       ram       sea    ram   sea       1     1  2015        34.0   \n",
       "3  0.4216       was       mia    mia   was       0     1  2015        10.0   \n",
       "4  0.4216       htx       kan    kan   htx       0     1  2015        20.0   \n",
       "\n",
       "   Away Score  Correct  \n",
       "0        21.0        1  \n",
       "1        31.0        0  \n",
       "2        31.0        1  \n",
       "3        17.0        0  \n",
       "4        27.0        0  "
      ]
     },
     "execution_count": 2,
     "metadata": {},
     "output_type": "execute_result"
    }
   ],
   "source": [
    "df = pd.read_csv(\"nfl_matchups.csv\")\n",
    "df.head()"
   ]
  },
  {
   "cell_type": "code",
   "execution_count": 13,
   "metadata": {},
   "outputs": [
    {
     "data": {
      "text/plain": [
       "64.1660015961692"
      ]
     },
     "execution_count": 13,
     "metadata": {},
     "output_type": "execute_result"
    }
   ],
   "source": [
    "df['Correct'].sum()/len(df) * 100\n",
    "df2 = df.copy()\n",
    "df2 = df2.iloc[200:]\n",
    "df2['Correct'].sum()/len(df2) * 100"
   ]
  },
  {
   "cell_type": "code",
   "execution_count": 4,
   "metadata": {},
   "outputs": [
    {
     "data": {
      "text/html": [
       "<div>\n",
       "<style scoped>\n",
       "    .dataframe tbody tr th:only-of-type {\n",
       "        vertical-align: middle;\n",
       "    }\n",
       "\n",
       "    .dataframe tbody tr th {\n",
       "        vertical-align: top;\n",
       "    }\n",
       "\n",
       "    .dataframe thead th {\n",
       "        text-align: right;\n",
       "    }\n",
       "</style>\n",
       "<table border=\"1\" class=\"dataframe\">\n",
       "  <thead>\n",
       "    <tr style=\"text-align: right;\">\n",
       "      <th></th>\n",
       "      <th>Home Elo</th>\n",
       "      <th>Away Elo</th>\n",
       "    </tr>\n",
       "  </thead>\n",
       "  <tbody>\n",
       "    <tr>\n",
       "      <th>0</th>\n",
       "      <td>2054.935547</td>\n",
       "      <td>2000.000000</td>\n",
       "    </tr>\n",
       "    <tr>\n",
       "      <th>1</th>\n",
       "      <td>2054.935547</td>\n",
       "      <td>2000.000000</td>\n",
       "    </tr>\n",
       "    <tr>\n",
       "      <th>2</th>\n",
       "      <td>2054.935547</td>\n",
       "      <td>2000.000000</td>\n",
       "    </tr>\n",
       "    <tr>\n",
       "      <th>3</th>\n",
       "      <td>2054.935547</td>\n",
       "      <td>2000.000000</td>\n",
       "    </tr>\n",
       "    <tr>\n",
       "      <th>4</th>\n",
       "      <td>2054.935547</td>\n",
       "      <td>2000.000000</td>\n",
       "    </tr>\n",
       "    <tr>\n",
       "      <th>...</th>\n",
       "      <td>...</td>\n",
       "      <td>...</td>\n",
       "    </tr>\n",
       "    <tr>\n",
       "      <th>1448</th>\n",
       "      <td>1694.204315</td>\n",
       "      <td>2043.170226</td>\n",
       "    </tr>\n",
       "    <tr>\n",
       "      <th>1449</th>\n",
       "      <td>1905.293804</td>\n",
       "      <td>1851.169060</td>\n",
       "    </tr>\n",
       "    <tr>\n",
       "      <th>1450</th>\n",
       "      <td>2006.629867</td>\n",
       "      <td>2058.392984</td>\n",
       "    </tr>\n",
       "    <tr>\n",
       "      <th>1451</th>\n",
       "      <td>2109.407989</td>\n",
       "      <td>2026.893589</td>\n",
       "    </tr>\n",
       "    <tr>\n",
       "      <th>1452</th>\n",
       "      <td>1964.205260</td>\n",
       "      <td>1878.101348</td>\n",
       "    </tr>\n",
       "  </tbody>\n",
       "</table>\n",
       "<p>1453 rows × 2 columns</p>\n",
       "</div>"
      ],
      "text/plain": [
       "         Home Elo     Away Elo\n",
       "0     2054.935547  2000.000000\n",
       "1     2054.935547  2000.000000\n",
       "2     2054.935547  2000.000000\n",
       "3     2054.935547  2000.000000\n",
       "4     2054.935547  2000.000000\n",
       "...           ...          ...\n",
       "1448  1694.204315  2043.170226\n",
       "1449  1905.293804  1851.169060\n",
       "1450  2006.629867  2058.392984\n",
       "1451  2109.407989  2026.893589\n",
       "1452  1964.205260  1878.101348\n",
       "\n",
       "[1453 rows x 2 columns]"
      ]
     },
     "execution_count": 4,
     "metadata": {},
     "output_type": "execute_result"
    }
   ],
   "source": [
    "X_cols = [\"Home Elo\", \"Away Elo\"]\n",
    "y_cols = [\"Result\"]\n",
    "X = df[X_cols]\n",
    "y = df[y_cols].values.ravel()\n",
    "X"
   ]
  },
  {
   "cell_type": "code",
   "execution_count": 5,
   "metadata": {},
   "outputs": [
    {
     "data": {
      "text/plain": [
       "array([[0.39160569, 0.41644695],\n",
       "       [0.39160569, 0.41644695],\n",
       "       [0.39160569, 0.41644695],\n",
       "       ...,\n",
       "       [0.35926547, 0.45523607],\n",
       "       [0.42807452, 0.43431174],\n",
       "       [0.33086256, 0.33547247]])"
      ]
     },
     "execution_count": 5,
     "metadata": {},
     "output_type": "execute_result"
    }
   ],
   "source": [
    "scaler = MinMaxScaler().fit(X)\n",
    "X = scaler.transform(X)\n",
    "X"
   ]
  },
  {
   "cell_type": "code",
   "execution_count": 66,
   "metadata": {},
   "outputs": [],
   "source": [
    "X_train, X_test, y_train, y_test = train_test_split(X, y, test_size=0.30)"
   ]
  },
  {
   "cell_type": "code",
   "execution_count": 64,
   "metadata": {},
   "outputs": [],
   "source": [
    "clf = LogisticRegression(max_iter=1000)\n",
    "# clf = xgb.XGBClassifier(n_estimators=1000)\n",
    "# clf = RandomForestClassifier(n_estimators=100)\n",
    "# clf = GradientBoostingClassifier(n_estimators=500, learning_rate=0.01)\n",
    "# clf = MLPClassifier(max_iter=500)\n",
    "# clf = BaggingClassifier(base_estimator=LogisticRegression(max_iter=1000), max_samples=0.75, n_estimators=500, n_jobs=7)\n",
    "# clf = BaggingClassifier(base_estimator=xgb.XGBClassifier(n_estimators=1000), n_estimators=300, n_jobs=7)\n",
    "# clf = BaggingClassifier(base_estimator=RandomForestClassifier(n_estimators=100), max_samples=0.75, n_estimators=500, n_jobs=7)"
   ]
  },
  {
   "cell_type": "code",
   "execution_count": 61,
   "metadata": {},
   "outputs": [],
   "source": [
    "clf = clf.fit(X_train, y_train)\n",
    "y_pred = clf.predict(X_test)"
   ]
  },
  {
   "cell_type": "code",
   "execution_count": 62,
   "metadata": {},
   "outputs": [
    {
     "data": {
      "text/plain": [
       "61.23853211009175"
      ]
     },
     "execution_count": 62,
     "metadata": {},
     "output_type": "execute_result"
    }
   ],
   "source": [
    "acc = metrics.accuracy_score(y_test, y_pred)\n",
    "acc*100"
   ]
  },
  {
   "cell_type": "code",
   "execution_count": 63,
   "metadata": {},
   "outputs": [
    {
     "name": "stdout",
     "output_type": "stream",
     "text": [
      "[[ 57 144]\n",
      " [ 25 210]]\n"
     ]
    }
   ],
   "source": [
    "conf_matrix = metrics.confusion_matrix(y_test, y_pred)\n",
    "print(conf_matrix)"
   ]
  },
  {
   "cell_type": "code",
   "execution_count": 67,
   "metadata": {},
   "outputs": [
    {
     "data": {
      "text/plain": [
       "(0.6372549019607843,\n",
       " array([0.6372549 , 0.6372549 , 0.57142857, 0.62561576, 0.63054187]))"
      ]
     },
     "execution_count": 67,
     "metadata": {},
     "output_type": "execute_result"
    }
   ],
   "source": [
    "scores = cross_validate(clf, X_train, y_train, scoring='accuracy', cv=5, return_estimator=True)\n",
    "clf = scores[\"estimator\"][np.argmax(scores[\"test_score\"])]\n",
    "scores[\"test_score\"][np.argmax(scores[\"test_score\"])].mean(), scores[\"test_score\"]"
   ]
  },
  {
   "cell_type": "code",
   "execution_count": 68,
   "metadata": {},
   "outputs": [
    {
     "data": {
      "text/plain": [
       "array([[ 57, 132],\n",
       "       [ 32, 215]], dtype=int64)"
      ]
     },
     "execution_count": 68,
     "metadata": {},
     "output_type": "execute_result"
    }
   ],
   "source": [
    "y_pred = clf.predict(X_test)\n",
    "conf_matrix = metrics.confusion_matrix(y_test, y_pred)\n",
    "conf_matrix"
   ]
  },
  {
   "cell_type": "code",
   "execution_count": 71,
   "metadata": {},
   "outputs": [],
   "source": [
    "model = {'clf':clf, \"X_cols\":X_cols, \"y_cols\":y_cols, \"scaler\":scaler, \"name\":\"Model 1\"}"
   ]
  },
  {
   "cell_type": "code",
   "execution_count": 72,
   "metadata": {},
   "outputs": [
    {
     "data": {
      "text/plain": [
       "{'clf': LogisticRegression(max_iter=1000),\n",
       " 'X_cols': ['Home Elo', 'Away Elo'],\n",
       " 'y_cols': ['Result'],\n",
       " 'scaler': MinMaxScaler(),\n",
       " 'name': 'Model 1'}"
      ]
     },
     "execution_count": 72,
     "metadata": {},
     "output_type": "execute_result"
    }
   ],
   "source": [
    "model"
   ]
  },
  {
   "cell_type": "code",
   "execution_count": 75,
   "metadata": {},
   "outputs": [],
   "source": [
    "pickle.dump(model, open(\"model1.pkl\", \"wb\"))"
   ]
  },
  {
   "cell_type": "code",
   "execution_count": null,
   "metadata": {},
   "outputs": [],
   "source": []
  }
 ],
 "metadata": {
  "kernelspec": {
   "display_name": "Python 3",
   "language": "python",
   "name": "python3"
  },
  "language_info": {
   "codemirror_mode": {
    "name": "ipython",
    "version": 3
   },
   "file_extension": ".py",
   "mimetype": "text/x-python",
   "name": "python",
   "nbconvert_exporter": "python",
   "pygments_lexer": "ipython3",
   "version": "3.8.5"
  }
 },
 "nbformat": 4,
 "nbformat_minor": 4
}
