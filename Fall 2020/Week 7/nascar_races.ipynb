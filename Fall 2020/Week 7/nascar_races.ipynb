{
 "cells": [
  {
   "cell_type": "code",
   "execution_count": 1,
   "metadata": {},
   "outputs": [],
   "source": [
    "import requests\n",
    "from bs4 import BeautifulSoup\n",
    "import re\n",
    "import pandas as pd\n",
    "import pickle\n",
    "import string"
   ]
  },
  {
   "cell_type": "code",
   "execution_count": 2,
   "metadata": {},
   "outputs": [
    {
     "data": {
      "text/plain": [
       "{200}"
      ]
     },
     "execution_count": 2,
     "metadata": {},
     "output_type": "execute_result"
    }
   ],
   "source": [
    "BASE_URL = 'http://racing-reference.info'\n",
    "start_year = 2015\n",
    "years = range(start_year, 2021)\n",
    "\n",
    "cup_results = [requests.get(BASE_URL + f'/raceyear/{year}/W') for year in years]\n",
    "set([r.status_code for r in cup_results])"
   ]
  },
  {
   "cell_type": "code",
   "execution_count": 3,
   "metadata": {},
   "outputs": [
    {
     "data": {
      "text/plain": [
       "[<a aria-label=\"click here to learn more about Bass Pro Shops / NRA Night Race results\" href=\"https://www.racing-reference.info/race/2020_Bass_Pro_Shops_NRA_Night_Race/W\" title=\"Bass Pro Shops / NRA Night Race\">29</a>,\n",
       " <a aria-label=\"click here to learn more about South Point 400 results\" href=\"https://www.racing-reference.info/race/2020_South_Point_400/W\" title=\"South Point 400\">30</a>,\n",
       " <a aria-label=\"click here to learn more about YellaWood 500 results\" href=\"https://www.racing-reference.info/race/2020_YellaWood_500/W\" title=\"YellaWood 500\">31</a>,\n",
       " <a aria-label=\"click here to learn more about Bank of America Roval 400 results\" href=\"https://www.racing-reference.info/race/2020_Bank_of_America_Roval_400/W\" title=\"Bank of America Roval 400\">32</a>,\n",
       " <a aria-label=\"click here to learn more about Hollywood Casino 400 results\" href=\"https://www.racing-reference.info/race/2020_Hollywood_Casino_400/W\" title=\"Hollywood Casino 400\">33</a>]"
      ]
     },
     "execution_count": 3,
     "metadata": {},
     "output_type": "execute_result"
    }
   ],
   "source": [
    "race_anchors = []\n",
    "href_regex = re.compile('/race/.*/W')\n",
    "\n",
    "for c in cup_results:\n",
    "    race_anchors.extend(BeautifulSoup(c.text, 'lxml').find_all(href=href_regex))\n",
    "\n",
    "race_anchors[-5:]"
   ]
  },
  {
   "cell_type": "code",
   "execution_count": 4,
   "metadata": {},
   "outputs": [
    {
     "data": {
      "text/plain": [
       "{200}"
      ]
     },
     "execution_count": 4,
     "metadata": {},
     "output_type": "execute_result"
    }
   ],
   "source": [
    "races = [requests.get(a.attrs['href']) for a in race_anchors]\n",
    "set([r.status_code for r in races])"
   ]
  },
  {
   "cell_type": "code",
   "execution_count": 5,
   "metadata": {},
   "outputs": [],
   "source": [
    "def track_type(track_length, track_type):\n",
    "    track_length = float(track_length)\n",
    "    if track_type == 'road course':\n",
    "        return 'road course'\n",
    "    elif track_length >= 2.0:\n",
    "        return 'superspeedway'\n",
    "    elif track_length >= 1.0:\n",
    "        return 'intermediate'\n",
    "    else:\n",
    "        return 'short track'"
   ]
  },
  {
   "cell_type": "code",
   "execution_count": 6,
   "metadata": {},
   "outputs": [],
   "source": [
    "r_details = re.compile(r'(\\d+) laps\\*? on a (\\d?\\.\\d{3}) mile (.*) \\((\\d+\\.\\d+) miles\\)')\n",
    "r_race_id = re.compile(r'(\\d{4})_(.*)')\n",
    "r_track_name = re.compile('/tracks/.*')\n",
    "\n",
    "race_data_frames = []\n",
    "\n",
    "for r in races:\n",
    "    df = pd.read_html(r.text, match='Sponsor / Owner', header=0)[-1]\n",
    "\n",
    "    details_match = r_details.search(r.text)\n",
    "    df['race_length_laps'] = int(details_match[1])\n",
    "    df['track_length_miles'] = float(details_match[2])\n",
    "    df['track_type'] = details_match[3]\n",
    "    df['track_type_detail'] = track_type(details_match[2], details_match[3])\n",
    "    df['race_length_miles'] = float(details_match[4])\n",
    "\n",
    "    race_id = r.url.split('/')[-2]\n",
    "    race_id_match = r_race_id.search(race_id)\n",
    "    df['year'] = int(race_id_match[1])\n",
    "    df['race_name'] = race_id_match[2]\n",
    "\n",
    "    df['track_name'] = BeautifulSoup(r.text, 'lxml').find(href=r_track_name).text\n",
    "\n",
    "    race_data_frames.append(df)"
   ]
  },
  {
   "cell_type": "code",
   "execution_count": 7,
   "metadata": {},
   "outputs": [
    {
     "data": {
      "text/html": [
       "<div>\n",
       "<style scoped>\n",
       "    .dataframe tbody tr th:only-of-type {\n",
       "        vertical-align: middle;\n",
       "    }\n",
       "\n",
       "    .dataframe tbody tr th {\n",
       "        vertical-align: top;\n",
       "    }\n",
       "\n",
       "    .dataframe thead th {\n",
       "        text-align: right;\n",
       "    }\n",
       "</style>\n",
       "<table border=\"1\" class=\"dataframe\">\n",
       "  <thead>\n",
       "    <tr style=\"text-align: right;\">\n",
       "      <th></th>\n",
       "      <th>Fin</th>\n",
       "      <th>St</th>\n",
       "      <th>#</th>\n",
       "      <th>Driver</th>\n",
       "      <th>Sponsor / Owner</th>\n",
       "      <th>Car</th>\n",
       "      <th>Laps</th>\n",
       "      <th>Status</th>\n",
       "      <th>Led</th>\n",
       "      <th>Pts</th>\n",
       "      <th>PPts</th>\n",
       "      <th>race_length_laps</th>\n",
       "      <th>track_length_miles</th>\n",
       "      <th>track_type</th>\n",
       "      <th>track_type_detail</th>\n",
       "      <th>race_length_miles</th>\n",
       "      <th>year</th>\n",
       "      <th>race_name</th>\n",
       "      <th>track_name</th>\n",
       "    </tr>\n",
       "  </thead>\n",
       "  <tbody>\n",
       "    <tr>\n",
       "      <th>0</th>\n",
       "      <td>1</td>\n",
       "      <td>2</td>\n",
       "      <td>22</td>\n",
       "      <td>Joey Logano</td>\n",
       "      <td>Shell / Pennzoil (Roger Penske)</td>\n",
       "      <td>Ford</td>\n",
       "      <td>267</td>\n",
       "      <td>running</td>\n",
       "      <td>47</td>\n",
       "      <td>42</td>\n",
       "      <td>5</td>\n",
       "      <td>267</td>\n",
       "      <td>1.5</td>\n",
       "      <td>paved track</td>\n",
       "      <td>intermediate</td>\n",
       "      <td>400.5</td>\n",
       "      <td>2020</td>\n",
       "      <td>Hollywood_Casino_400</td>\n",
       "      <td>Kansas Speedway</td>\n",
       "    </tr>\n",
       "    <tr>\n",
       "      <th>1</th>\n",
       "      <td>2</td>\n",
       "      <td>4</td>\n",
       "      <td>4</td>\n",
       "      <td>Kevin Harvick</td>\n",
       "      <td>Jimmy John's (Stewart Haas Racing)</td>\n",
       "      <td>Ford</td>\n",
       "      <td>267</td>\n",
       "      <td>running</td>\n",
       "      <td>85</td>\n",
       "      <td>48</td>\n",
       "      <td>0</td>\n",
       "      <td>267</td>\n",
       "      <td>1.5</td>\n",
       "      <td>paved track</td>\n",
       "      <td>intermediate</td>\n",
       "      <td>400.5</td>\n",
       "      <td>2020</td>\n",
       "      <td>Hollywood_Casino_400</td>\n",
       "      <td>Kansas Speedway</td>\n",
       "    </tr>\n",
       "    <tr>\n",
       "      <th>2</th>\n",
       "      <td>3</td>\n",
       "      <td>6</td>\n",
       "      <td>88</td>\n",
       "      <td>Alex Bowman</td>\n",
       "      <td>ChevyGoods.com / Truck Hero (Rick Hendrick)</td>\n",
       "      <td>Chevrolet</td>\n",
       "      <td>267</td>\n",
       "      <td>running</td>\n",
       "      <td>0</td>\n",
       "      <td>46</td>\n",
       "      <td>0</td>\n",
       "      <td>267</td>\n",
       "      <td>1.5</td>\n",
       "      <td>paved track</td>\n",
       "      <td>intermediate</td>\n",
       "      <td>400.5</td>\n",
       "      <td>2020</td>\n",
       "      <td>Hollywood_Casino_400</td>\n",
       "      <td>Kansas Speedway</td>\n",
       "    </tr>\n",
       "    <tr>\n",
       "      <th>3</th>\n",
       "      <td>4</td>\n",
       "      <td>8</td>\n",
       "      <td>2</td>\n",
       "      <td>Brad Keselowski</td>\n",
       "      <td>Discount Tire (Roger Penske)</td>\n",
       "      <td>Ford</td>\n",
       "      <td>267</td>\n",
       "      <td>running</td>\n",
       "      <td>6</td>\n",
       "      <td>47</td>\n",
       "      <td>0</td>\n",
       "      <td>267</td>\n",
       "      <td>1.5</td>\n",
       "      <td>paved track</td>\n",
       "      <td>intermediate</td>\n",
       "      <td>400.5</td>\n",
       "      <td>2020</td>\n",
       "      <td>Hollywood_Casino_400</td>\n",
       "      <td>Kansas Speedway</td>\n",
       "    </tr>\n",
       "    <tr>\n",
       "      <th>4</th>\n",
       "      <td>5</td>\n",
       "      <td>20</td>\n",
       "      <td>18</td>\n",
       "      <td>Kyle Busch</td>\n",
       "      <td>M&amp;M's Halloween Treat Town (Joe Gibbs)</td>\n",
       "      <td>Toyota</td>\n",
       "      <td>267</td>\n",
       "      <td>running</td>\n",
       "      <td>4</td>\n",
       "      <td>33</td>\n",
       "      <td>0</td>\n",
       "      <td>267</td>\n",
       "      <td>1.5</td>\n",
       "      <td>paved track</td>\n",
       "      <td>intermediate</td>\n",
       "      <td>400.5</td>\n",
       "      <td>2020</td>\n",
       "      <td>Hollywood_Casino_400</td>\n",
       "      <td>Kansas Speedway</td>\n",
       "    </tr>\n",
       "  </tbody>\n",
       "</table>\n",
       "</div>"
      ],
      "text/plain": [
       "   Fin  St   #           Driver                              Sponsor / Owner  \\\n",
       "0    1   2  22      Joey Logano              Shell / Pennzoil (Roger Penske)   \n",
       "1    2   4   4    Kevin Harvick           Jimmy John's (Stewart Haas Racing)   \n",
       "2    3   6  88      Alex Bowman  ChevyGoods.com / Truck Hero (Rick Hendrick)   \n",
       "3    4   8   2  Brad Keselowski                 Discount Tire (Roger Penske)   \n",
       "4    5  20  18       Kyle Busch       M&M's Halloween Treat Town (Joe Gibbs)   \n",
       "\n",
       "         Car  Laps   Status  Led  Pts  PPts  race_length_laps  \\\n",
       "0       Ford   267  running   47   42     5               267   \n",
       "1       Ford   267  running   85   48     0               267   \n",
       "2  Chevrolet   267  running    0   46     0               267   \n",
       "3       Ford   267  running    6   47     0               267   \n",
       "4     Toyota   267  running    4   33     0               267   \n",
       "\n",
       "   track_length_miles   track_type track_type_detail  race_length_miles  year  \\\n",
       "0                 1.5  paved track      intermediate              400.5  2020   \n",
       "1                 1.5  paved track      intermediate              400.5  2020   \n",
       "2                 1.5  paved track      intermediate              400.5  2020   \n",
       "3                 1.5  paved track      intermediate              400.5  2020   \n",
       "4                 1.5  paved track      intermediate              400.5  2020   \n",
       "\n",
       "              race_name       track_name  \n",
       "0  Hollywood_Casino_400  Kansas Speedway  \n",
       "1  Hollywood_Casino_400  Kansas Speedway  \n",
       "2  Hollywood_Casino_400  Kansas Speedway  \n",
       "3  Hollywood_Casino_400  Kansas Speedway  \n",
       "4  Hollywood_Casino_400  Kansas Speedway  "
      ]
     },
     "execution_count": 7,
     "metadata": {},
     "output_type": "execute_result"
    }
   ],
   "source": [
    "race_data_frames[-1].head()"
   ]
  },
  {
   "cell_type": "code",
   "execution_count": null,
   "metadata": {},
   "outputs": [],
   "source": [
    "with open(\"all_races.pkl\", 'wb') as f:\n",
    "    pickle.dump(race_data_frames, f)"
   ]
  }
 ],
 "metadata": {
  "kernelspec": {
   "display_name": "Python 3",
   "language": "python",
   "name": "python3"
  },
  "language_info": {
   "codemirror_mode": {
    "name": "ipython",
    "version": 3
   },
   "file_extension": ".py",
   "mimetype": "text/x-python",
   "name": "python",
   "nbconvert_exporter": "python",
   "pygments_lexer": "ipython3",
   "version": "3.8.5"
  }
 },
 "nbformat": 4,
 "nbformat_minor": 4
}
