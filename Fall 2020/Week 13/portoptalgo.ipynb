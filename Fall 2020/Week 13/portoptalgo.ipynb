{
 "cells": [
  {
   "cell_type": "code",
   "execution_count": 2,
   "metadata": {},
   "outputs": [],
   "source": [
    "import alpaca_trade_api as tradeapi\n",
    "import alpacakeys as keys\n",
    "import json\n",
    "import requests\n",
    "from PortfolioOpt import PortfolioOpt\n",
    "from datetime import date, timedelta\n",
    "from dateutil.relativedelta import relativedelta\n",
    "import numpy as np\n",
    "import time\n",
    "import yfinance as yf"
   ]
  },
  {
   "cell_type": "code",
   "execution_count": 3,
   "metadata": {},
   "outputs": [],
   "source": [
    "api = tradeapi.REST(keys.api_key, keys.secret_key, base_url='https://paper-api.alpaca.markets')"
   ]
  },
  {
   "cell_type": "code",
   "execution_count": 4,
   "metadata": {},
   "outputs": [],
   "source": [
    "def get_pos(api):\n",
    "    rawpos = api.list_positions()\n",
    "    pos = {}\n",
    "    for i in rawpos:\n",
    "        pos[i.symbol] = float(i.qty)\n",
    "\n",
    "\n",
    "    return pos\n",
    "\n",
    "\n",
    "def get_quote(ticker):\n",
    "    close = yf.download(ticker, start=date.today()).iloc[-1][\"Close\"]\n",
    "    return close\n",
    "\n",
    "\n",
    "def calc_new_shares(port_val, tickers, weights):\n",
    "\n",
    "    new_shares = {}\n",
    "\n",
    "    dol_inv = weights * port_val\n",
    "    for ticker, inv in zip(tickers, dol_inv):\n",
    "        last_price = get_quote(ticker)\n",
    "        new_shares[ticker] = np.floor(inv/last_price)\n",
    "\n",
    "    return new_shares\n",
    "\n",
    "def get_pos_diff(current, new):\n",
    "\n",
    "    diff = {key: new[key] - current.get(key, 0) for key in new.keys()}\n",
    "\n",
    "    sell_all = {}\n",
    "    for ticker, shares in current.items():\n",
    "        if ticker not in diff:\n",
    "            sell_all[ticker] = -shares\n",
    "\n",
    "    diff.update(sell_all)\n",
    "    return diff\n",
    "\n",
    "def place_order(pos_dict):\n",
    "\n",
    "    sell_dict = {k:np.abs(v) for k,v in pos_dict.items() if v < 0}\n",
    "    buy_dict = {k:v for k,v in pos_dict.items() if v > 0}\n",
    "\n",
    "\n",
    "    for ticker, shares in sell_dict.items():\n",
    "        try:\n",
    "            print(f\"Sell: {ticker}, {shares}\")\n",
    "            api.submit_order(\n",
    "                symbol=ticker,\n",
    "                side='sell',\n",
    "                type='market',\n",
    "                qty=str(shares),\n",
    "                time_in_force='day'\n",
    "            )\n",
    "        except:\n",
    "            pass\n",
    "\n",
    "    for ticker, shares in buy_dict.items():\n",
    "        try:\n",
    "            print(f\"Buy: {ticker}, {shares}\")\n",
    "            api.submit_order(\n",
    "                symbol=ticker,\n",
    "                side='buy',\n",
    "                type='market',\n",
    "                qty=str(shares),\n",
    "                time_in_force='day'\n",
    "            )\n",
    "        except:\n",
    "            pass"
   ]
  },
  {
   "cell_type": "code",
   "execution_count": 7,
   "metadata": {},
   "outputs": [],
   "source": [
    "tickers = [\"RCL\", \"AAL\", \"MSFT\", \"BAC\", \"SNAP\", \"AMZN\", \"KO\", \"DIS\", \"COST\", \"VZ\", \"AMD\", \"NVDA\", \"WMT\", \"V\", \"HD\", \"DPZ\", \"JBLU\", \"MDLZ\",\n",
    "           \"TSLA\", \"WEN\", \"UPS\", \"PLUG\"]\n",
    "\n",
    "# tickers = [\"RCL\", \"AAL\", \"MSFT\"]\n",
    "\n",
    "\n",
    "start_date = date.today() - relativedelta(years=3)\n",
    "opt = PortfolioOpt(tickers, start=str(start_date), lookahead=0)\n",
    "weights = opt.optimize_portfolio(opt_for=\"sharpe\", print_results=False)['x'].round(4)"
   ]
  },
  {
   "cell_type": "code",
   "execution_count": 8,
   "metadata": {},
   "outputs": [
    {
     "data": {
      "text/plain": [
       "array([0.    , 0.    , 0.    , 0.    , 0.    , 0.    , 0.    , 0.    ,\n",
       "       0.3282, 0.    , 0.2154, 0.    , 0.    , 0.    , 0.    , 0.143 ,\n",
       "       0.    , 0.    , 0.1542, 0.    , 0.    , 0.1592])"
      ]
     },
     "execution_count": 8,
     "metadata": {},
     "output_type": "execute_result"
    }
   ],
   "source": [
    "weights"
   ]
  },
  {
   "cell_type": "code",
   "execution_count": 10,
   "metadata": {},
   "outputs": [
    {
     "data": {
      "text/plain": [
       "106181.17"
      ]
     },
     "execution_count": 10,
     "metadata": {},
     "output_type": "execute_result"
    }
   ],
   "source": [
    "port_val = float(api.get_account().equity)\n",
    "port_val"
   ]
  },
  {
   "cell_type": "code",
   "execution_count": 11,
   "metadata": {},
   "outputs": [
    {
     "data": {
      "text/plain": [
       "{'MSFT': 495.0}"
      ]
     },
     "execution_count": 11,
     "metadata": {},
     "output_type": "execute_result"
    }
   ],
   "source": [
    "current = get_pos(api)\n",
    "current"
   ]
  },
  {
   "cell_type": "code",
   "execution_count": 12,
   "metadata": {},
   "outputs": [
    {
     "name": "stdout",
     "output_type": "stream",
     "text": [
      "[*********************100%***********************]  1 of 1 completed\n",
      "[*********************100%***********************]  1 of 1 completed\n",
      "[*********************100%***********************]  1 of 1 completed\n",
      "[*********************100%***********************]  1 of 1 completed\n",
      "[*********************100%***********************]  1 of 1 completed\n",
      "[*********************100%***********************]  1 of 1 completed\n",
      "[*********************100%***********************]  1 of 1 completed\n",
      "[*********************100%***********************]  1 of 1 completed\n",
      "[*********************100%***********************]  1 of 1 completed\n",
      "[*********************100%***********************]  1 of 1 completed\n",
      "[*********************100%***********************]  1 of 1 completed\n",
      "[*********************100%***********************]  1 of 1 completed\n",
      "[*********************100%***********************]  1 of 1 completed\n",
      "[*********************100%***********************]  1 of 1 completed\n",
      "[*********************100%***********************]  1 of 1 completed\n",
      "[*********************100%***********************]  1 of 1 completed\n",
      "[*********************100%***********************]  1 of 1 completed\n",
      "[*********************100%***********************]  1 of 1 completed\n",
      "[*********************100%***********************]  1 of 1 completed\n",
      "[*********************100%***********************]  1 of 1 completed\n",
      "[*********************100%***********************]  1 of 1 completed\n",
      "[*********************100%***********************]  1 of 1 completed\n"
     ]
    },
    {
     "data": {
      "text/plain": [
       "{'RCL': 0.0,\n",
       " 'AAL': 0.0,\n",
       " 'MSFT': 0.0,\n",
       " 'BAC': 0.0,\n",
       " 'SNAP': 0.0,\n",
       " 'AMZN': 0.0,\n",
       " 'KO': 0.0,\n",
       " 'DIS': 0.0,\n",
       " 'COST': 93.0,\n",
       " 'VZ': 0.0,\n",
       " 'AMD': 254.0,\n",
       " 'NVDA': 0.0,\n",
       " 'WMT': 0.0,\n",
       " 'V': 0.0,\n",
       " 'HD': 0.0,\n",
       " 'DPZ': 39.0,\n",
       " 'JBLU': 0.0,\n",
       " 'MDLZ': 0.0,\n",
       " 'TSLA': 27.0,\n",
       " 'WEN': 0.0,\n",
       " 'UPS': 0.0,\n",
       " 'PLUG': 632.0}"
      ]
     },
     "execution_count": 12,
     "metadata": {},
     "output_type": "execute_result"
    }
   ],
   "source": [
    "new = calc_new_shares(port_val, tickers, weights)\n",
    "new"
   ]
  },
  {
   "cell_type": "code",
   "execution_count": 13,
   "metadata": {},
   "outputs": [
    {
     "data": {
      "text/plain": [
       "{'RCL': 0.0,\n",
       " 'AAL': 0.0,\n",
       " 'MSFT': -495.0,\n",
       " 'BAC': 0.0,\n",
       " 'SNAP': 0.0,\n",
       " 'AMZN': 0.0,\n",
       " 'KO': 0.0,\n",
       " 'DIS': 0.0,\n",
       " 'COST': 93.0,\n",
       " 'VZ': 0.0,\n",
       " 'AMD': 254.0,\n",
       " 'NVDA': 0.0,\n",
       " 'WMT': 0.0,\n",
       " 'V': 0.0,\n",
       " 'HD': 0.0,\n",
       " 'DPZ': 39.0,\n",
       " 'JBLU': 0.0,\n",
       " 'MDLZ': 0.0,\n",
       " 'TSLA': 27.0,\n",
       " 'WEN': 0.0,\n",
       " 'UPS': 0.0,\n",
       " 'PLUG': 632.0}"
      ]
     },
     "execution_count": 13,
     "metadata": {},
     "output_type": "execute_result"
    }
   ],
   "source": [
    "order_pos = get_pos_diff(current, new)\n",
    "order_pos"
   ]
  },
  {
   "cell_type": "code",
   "execution_count": 14,
   "metadata": {},
   "outputs": [
    {
     "name": "stdout",
     "output_type": "stream",
     "text": [
      "Sell: MSFT, 495.0\n",
      "Buy: COST, 93.0\n",
      "Buy: AMD, 254.0\n",
      "Buy: DPZ, 39.0\n",
      "Buy: TSLA, 27.0\n",
      "Buy: PLUG, 632.0\n"
     ]
    }
   ],
   "source": [
    "place_order(order_pos)"
   ]
  },
  {
   "cell_type": "code",
   "execution_count": null,
   "metadata": {},
   "outputs": [],
   "source": []
  }
 ],
 "metadata": {
  "kernelspec": {
   "display_name": "Python 3",
   "language": "python",
   "name": "python3"
  },
  "language_info": {
   "codemirror_mode": {
    "name": "ipython",
    "version": 3
   },
   "file_extension": ".py",
   "mimetype": "text/x-python",
   "name": "python",
   "nbconvert_exporter": "python",
   "pygments_lexer": "ipython3",
   "version": "3.8.5"
  }
 },
 "nbformat": 4,
 "nbformat_minor": 4
}
