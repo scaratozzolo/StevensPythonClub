{
 "cells": [
  {
   "cell_type": "code",
   "execution_count": 1,
   "metadata": {},
   "outputs": [],
   "source": [
    "import pandas as pd\n",
    "import sqlite3\n",
    "import MouseTools as mt"
   ]
  },
  {
   "cell_type": "code",
   "execution_count": 2,
   "metadata": {},
   "outputs": [],
   "source": [
    "conn = sqlite3.connect(\"../Week 4/waits.db\")"
   ]
  },
  {
   "cell_type": "code",
   "execution_count": 3,
   "metadata": {},
   "outputs": [
    {
     "output_type": "execute_result",
     "data": {
      "text/plain": [
       "         id                                               name     entityType  \\\n",
       "0    136550  Monsters, Inc. Laugh Floor - Temporarily Unava...     Attraction   \n",
       "1  15743682  Meet Dashing Disney Pals as Circus Stars at Pe...  Entertainment   \n",
       "2  15850196  Meet Mickey Mouse at Town Square Theater - Tem...  Entertainment   \n",
       "3  16124144                  Walt Disney's Enchanted Tiki Room     Attraction   \n",
       "4  16414579                     Sorcerers of the Magic Kingdom     Attraction   \n",
       "\n",
       "          last_pull    last_updated wait_time     status   dest_id  \n",
       "0  1617819158.53114  1615160265.019      None     Closed  80007798  \n",
       "1  1617819158.53114  1600183997.406      None     Closed  80007798  \n",
       "2  1617819158.53114  1600183997.374      None     Closed  80007798  \n",
       "3  1617819158.53114  1617811321.839      None  Operating  80007798  \n",
       "4  1617819158.53114  1611547236.558      None     Closed  80007798  "
      ],
      "text/html": "<div>\n<style scoped>\n    .dataframe tbody tr th:only-of-type {\n        vertical-align: middle;\n    }\n\n    .dataframe tbody tr th {\n        vertical-align: top;\n    }\n\n    .dataframe thead th {\n        text-align: right;\n    }\n</style>\n<table border=\"1\" class=\"dataframe\">\n  <thead>\n    <tr style=\"text-align: right;\">\n      <th></th>\n      <th>id</th>\n      <th>name</th>\n      <th>entityType</th>\n      <th>last_pull</th>\n      <th>last_updated</th>\n      <th>wait_time</th>\n      <th>status</th>\n      <th>dest_id</th>\n    </tr>\n  </thead>\n  <tbody>\n    <tr>\n      <th>0</th>\n      <td>136550</td>\n      <td>Monsters, Inc. Laugh Floor - Temporarily Unava...</td>\n      <td>Attraction</td>\n      <td>1617819158.53114</td>\n      <td>1615160265.019</td>\n      <td>None</td>\n      <td>Closed</td>\n      <td>80007798</td>\n    </tr>\n    <tr>\n      <th>1</th>\n      <td>15743682</td>\n      <td>Meet Dashing Disney Pals as Circus Stars at Pe...</td>\n      <td>Entertainment</td>\n      <td>1617819158.53114</td>\n      <td>1600183997.406</td>\n      <td>None</td>\n      <td>Closed</td>\n      <td>80007798</td>\n    </tr>\n    <tr>\n      <th>2</th>\n      <td>15850196</td>\n      <td>Meet Mickey Mouse at Town Square Theater - Tem...</td>\n      <td>Entertainment</td>\n      <td>1617819158.53114</td>\n      <td>1600183997.374</td>\n      <td>None</td>\n      <td>Closed</td>\n      <td>80007798</td>\n    </tr>\n    <tr>\n      <th>3</th>\n      <td>16124144</td>\n      <td>Walt Disney's Enchanted Tiki Room</td>\n      <td>Attraction</td>\n      <td>1617819158.53114</td>\n      <td>1617811321.839</td>\n      <td>None</td>\n      <td>Operating</td>\n      <td>80007798</td>\n    </tr>\n    <tr>\n      <th>4</th>\n      <td>16414579</td>\n      <td>Sorcerers of the Magic Kingdom</td>\n      <td>Attraction</td>\n      <td>1617819158.53114</td>\n      <td>1611547236.558</td>\n      <td>None</td>\n      <td>Closed</td>\n      <td>80007798</td>\n    </tr>\n  </tbody>\n</table>\n</div>"
     },
     "metadata": {},
     "execution_count": 3
    }
   ],
   "source": [
    "details = pd.read_sql(f\"SELECT * FROM details WHERE dest_id = {mt.ids.WDW_ID}\", conn)\n",
    "details.head()"
   ]
  },
  {
   "cell_type": "code",
   "execution_count": 4,
   "metadata": {},
   "outputs": [
    {
     "output_type": "execute_result",
     "data": {
      "text/plain": [
       "                  136550  15743682  15850196  16124144  16414579 16491297  \\\n",
       "last_pull                                                                   \n",
       "1616939436.37108    -1.0      -1.0      -1.0      -1.0      -1.0       15   \n",
       "1616939737.7591     -1.0      -1.0      -1.0      -1.0      -1.0       15   \n",
       "1616940038.48731    -1.0      -1.0      -1.0      -1.0      -1.0       10   \n",
       "1616940341.58551    -1.0      -1.0      -1.0      -1.0      -1.0       10   \n",
       "1616940644.43527    -1.0      -1.0      -1.0      -1.0      -1.0       10   \n",
       "...                  ...       ...       ...       ...       ...      ...   \n",
       "1617716011.7734     -1.0      -1.0      -1.0      -1.0      -1.0       10   \n",
       "1617716314.55725    -1.0      -1.0      -1.0      -1.0      -1.0       10   \n",
       "1617818503.90082    -1.0      -1.0      -1.0      -1.0      -1.0       20   \n",
       "1617818836.76763    -1.0      -1.0      -1.0      -1.0      -1.0       20   \n",
       "1617819158.53114    -1.0      -1.0      -1.0      -1.0      -1.0       20   \n",
       "\n",
       "                  16491299 16767263  16767276 16767284  ...  26068  80010123  \\\n",
       "last_pull                                               ...                    \n",
       "1616939436.37108      -1.0       20      -1.0       75  ...     25        10   \n",
       "1616939737.7591       -1.0       20      -1.0       75  ...     25        25   \n",
       "1616940038.48731      -1.0       20      -1.0       65  ...     25        35   \n",
       "1616940341.58551      -1.0       20      -1.0       65  ...     25        45   \n",
       "1616940644.43527      -1.0       20      -1.0       50  ...     25        45   \n",
       "...                    ...      ...       ...      ...  ...    ...       ...   \n",
       "1617716011.7734       -1.0       20      -1.0       75  ...     45        45   \n",
       "1617716314.55725      -1.0       20      -1.0       75  ...     45        50   \n",
       "1617818503.90082      -1.0       20      -1.0       55  ...     25        55   \n",
       "1617818836.76763      -1.0       20      -1.0       55  ...     25        55   \n",
       "1617819158.53114      -1.0       20      -1.0       55  ...     25        40   \n",
       "\n",
       "                  80010150  80010154  80010157  80010164  80010175 80010203  \\\n",
       "last_pull                                                                     \n",
       "1616939436.37108        15        -1        65        -1        -1       -1   \n",
       "1616939737.7591         15        -1        65        -1        -1       -1   \n",
       "1616940038.48731        15        -1        55        -1        -1       -1   \n",
       "1616940341.58551        15        -1        55        -1        -1       -1   \n",
       "1616940644.43527        15        -1        55        -1        -1       -1   \n",
       "...                    ...       ...       ...       ...       ...      ...   \n",
       "1617716011.7734         10         5        60        -1        -1       -1   \n",
       "1617716314.55725        15         5        60        -1        -1       -1   \n",
       "1617818503.90082        35        60        15        -1        -1       -1   \n",
       "1617818836.76763        25        50        15        -1        -1       -1   \n",
       "1617819158.53114        25        50        25        -1        -1       -1   \n",
       "\n",
       "                 80010228 80010235  \n",
       "last_pull                           \n",
       "1616939436.37108       20       -1  \n",
       "1616939737.7591        20       -1  \n",
       "1616940038.48731       35       -1  \n",
       "1616940341.58551       35       -1  \n",
       "1616940644.43527       35       -1  \n",
       "...                   ...      ...  \n",
       "1617716011.7734         5       -1  \n",
       "1617716314.55725       10       -1  \n",
       "1617818503.90082       10       -1  \n",
       "1617818836.76763       10       -1  \n",
       "1617819158.53114       10       -1  \n",
       "\n",
       "[1819 rows x 103 columns]"
      ],
      "text/html": "<div>\n<style scoped>\n    .dataframe tbody tr th:only-of-type {\n        vertical-align: middle;\n    }\n\n    .dataframe tbody tr th {\n        vertical-align: top;\n    }\n\n    .dataframe thead th {\n        text-align: right;\n    }\n</style>\n<table border=\"1\" class=\"dataframe\">\n  <thead>\n    <tr style=\"text-align: right;\">\n      <th></th>\n      <th>136550</th>\n      <th>15743682</th>\n      <th>15850196</th>\n      <th>16124144</th>\n      <th>16414579</th>\n      <th>16491297</th>\n      <th>16491299</th>\n      <th>16767263</th>\n      <th>16767276</th>\n      <th>16767284</th>\n      <th>...</th>\n      <th>26068</th>\n      <th>80010123</th>\n      <th>80010150</th>\n      <th>80010154</th>\n      <th>80010157</th>\n      <th>80010164</th>\n      <th>80010175</th>\n      <th>80010203</th>\n      <th>80010228</th>\n      <th>80010235</th>\n    </tr>\n    <tr>\n      <th>last_pull</th>\n      <th></th>\n      <th></th>\n      <th></th>\n      <th></th>\n      <th></th>\n      <th></th>\n      <th></th>\n      <th></th>\n      <th></th>\n      <th></th>\n      <th></th>\n      <th></th>\n      <th></th>\n      <th></th>\n      <th></th>\n      <th></th>\n      <th></th>\n      <th></th>\n      <th></th>\n      <th></th>\n      <th></th>\n    </tr>\n  </thead>\n  <tbody>\n    <tr>\n      <th>1616939436.37108</th>\n      <td>-1.0</td>\n      <td>-1.0</td>\n      <td>-1.0</td>\n      <td>-1.0</td>\n      <td>-1.0</td>\n      <td>15</td>\n      <td>-1.0</td>\n      <td>20</td>\n      <td>-1.0</td>\n      <td>75</td>\n      <td>...</td>\n      <td>25</td>\n      <td>10</td>\n      <td>15</td>\n      <td>-1</td>\n      <td>65</td>\n      <td>-1</td>\n      <td>-1</td>\n      <td>-1</td>\n      <td>20</td>\n      <td>-1</td>\n    </tr>\n    <tr>\n      <th>1616939737.7591</th>\n      <td>-1.0</td>\n      <td>-1.0</td>\n      <td>-1.0</td>\n      <td>-1.0</td>\n      <td>-1.0</td>\n      <td>15</td>\n      <td>-1.0</td>\n      <td>20</td>\n      <td>-1.0</td>\n      <td>75</td>\n      <td>...</td>\n      <td>25</td>\n      <td>25</td>\n      <td>15</td>\n      <td>-1</td>\n      <td>65</td>\n      <td>-1</td>\n      <td>-1</td>\n      <td>-1</td>\n      <td>20</td>\n      <td>-1</td>\n    </tr>\n    <tr>\n      <th>1616940038.48731</th>\n      <td>-1.0</td>\n      <td>-1.0</td>\n      <td>-1.0</td>\n      <td>-1.0</td>\n      <td>-1.0</td>\n      <td>10</td>\n      <td>-1.0</td>\n      <td>20</td>\n      <td>-1.0</td>\n      <td>65</td>\n      <td>...</td>\n      <td>25</td>\n      <td>35</td>\n      <td>15</td>\n      <td>-1</td>\n      <td>55</td>\n      <td>-1</td>\n      <td>-1</td>\n      <td>-1</td>\n      <td>35</td>\n      <td>-1</td>\n    </tr>\n    <tr>\n      <th>1616940341.58551</th>\n      <td>-1.0</td>\n      <td>-1.0</td>\n      <td>-1.0</td>\n      <td>-1.0</td>\n      <td>-1.0</td>\n      <td>10</td>\n      <td>-1.0</td>\n      <td>20</td>\n      <td>-1.0</td>\n      <td>65</td>\n      <td>...</td>\n      <td>25</td>\n      <td>45</td>\n      <td>15</td>\n      <td>-1</td>\n      <td>55</td>\n      <td>-1</td>\n      <td>-1</td>\n      <td>-1</td>\n      <td>35</td>\n      <td>-1</td>\n    </tr>\n    <tr>\n      <th>1616940644.43527</th>\n      <td>-1.0</td>\n      <td>-1.0</td>\n      <td>-1.0</td>\n      <td>-1.0</td>\n      <td>-1.0</td>\n      <td>10</td>\n      <td>-1.0</td>\n      <td>20</td>\n      <td>-1.0</td>\n      <td>50</td>\n      <td>...</td>\n      <td>25</td>\n      <td>45</td>\n      <td>15</td>\n      <td>-1</td>\n      <td>55</td>\n      <td>-1</td>\n      <td>-1</td>\n      <td>-1</td>\n      <td>35</td>\n      <td>-1</td>\n    </tr>\n    <tr>\n      <th>...</th>\n      <td>...</td>\n      <td>...</td>\n      <td>...</td>\n      <td>...</td>\n      <td>...</td>\n      <td>...</td>\n      <td>...</td>\n      <td>...</td>\n      <td>...</td>\n      <td>...</td>\n      <td>...</td>\n      <td>...</td>\n      <td>...</td>\n      <td>...</td>\n      <td>...</td>\n      <td>...</td>\n      <td>...</td>\n      <td>...</td>\n      <td>...</td>\n      <td>...</td>\n      <td>...</td>\n    </tr>\n    <tr>\n      <th>1617716011.7734</th>\n      <td>-1.0</td>\n      <td>-1.0</td>\n      <td>-1.0</td>\n      <td>-1.0</td>\n      <td>-1.0</td>\n      <td>10</td>\n      <td>-1.0</td>\n      <td>20</td>\n      <td>-1.0</td>\n      <td>75</td>\n      <td>...</td>\n      <td>45</td>\n      <td>45</td>\n      <td>10</td>\n      <td>5</td>\n      <td>60</td>\n      <td>-1</td>\n      <td>-1</td>\n      <td>-1</td>\n      <td>5</td>\n      <td>-1</td>\n    </tr>\n    <tr>\n      <th>1617716314.55725</th>\n      <td>-1.0</td>\n      <td>-1.0</td>\n      <td>-1.0</td>\n      <td>-1.0</td>\n      <td>-1.0</td>\n      <td>10</td>\n      <td>-1.0</td>\n      <td>20</td>\n      <td>-1.0</td>\n      <td>75</td>\n      <td>...</td>\n      <td>45</td>\n      <td>50</td>\n      <td>15</td>\n      <td>5</td>\n      <td>60</td>\n      <td>-1</td>\n      <td>-1</td>\n      <td>-1</td>\n      <td>10</td>\n      <td>-1</td>\n    </tr>\n    <tr>\n      <th>1617818503.90082</th>\n      <td>-1.0</td>\n      <td>-1.0</td>\n      <td>-1.0</td>\n      <td>-1.0</td>\n      <td>-1.0</td>\n      <td>20</td>\n      <td>-1.0</td>\n      <td>20</td>\n      <td>-1.0</td>\n      <td>55</td>\n      <td>...</td>\n      <td>25</td>\n      <td>55</td>\n      <td>35</td>\n      <td>60</td>\n      <td>15</td>\n      <td>-1</td>\n      <td>-1</td>\n      <td>-1</td>\n      <td>10</td>\n      <td>-1</td>\n    </tr>\n    <tr>\n      <th>1617818836.76763</th>\n      <td>-1.0</td>\n      <td>-1.0</td>\n      <td>-1.0</td>\n      <td>-1.0</td>\n      <td>-1.0</td>\n      <td>20</td>\n      <td>-1.0</td>\n      <td>20</td>\n      <td>-1.0</td>\n      <td>55</td>\n      <td>...</td>\n      <td>25</td>\n      <td>55</td>\n      <td>25</td>\n      <td>50</td>\n      <td>15</td>\n      <td>-1</td>\n      <td>-1</td>\n      <td>-1</td>\n      <td>10</td>\n      <td>-1</td>\n    </tr>\n    <tr>\n      <th>1617819158.53114</th>\n      <td>-1.0</td>\n      <td>-1.0</td>\n      <td>-1.0</td>\n      <td>-1.0</td>\n      <td>-1.0</td>\n      <td>20</td>\n      <td>-1.0</td>\n      <td>20</td>\n      <td>-1.0</td>\n      <td>55</td>\n      <td>...</td>\n      <td>25</td>\n      <td>40</td>\n      <td>25</td>\n      <td>50</td>\n      <td>25</td>\n      <td>-1</td>\n      <td>-1</td>\n      <td>-1</td>\n      <td>10</td>\n      <td>-1</td>\n    </tr>\n  </tbody>\n</table>\n<p>1819 rows × 103 columns</p>\n</div>"
     },
     "metadata": {},
     "execution_count": 4
    }
   ],
   "source": [
    "wdw_df = pd.DataFrame()\n",
    "\n",
    "for i, row in details.iterrows():\n",
    "    \n",
    "    df = pd.read_sql(f\"SELECT * FROM id_{row['id']}\", conn, index_col=\"last_pull\").drop(\"status\", axis=1)\n",
    "    df['wait_time'] = df['wait_time'].apply(lambda x: -1 if x == None else x)\n",
    "    df = df.rename({\"wait_time\": row['id']}, axis=1)\n",
    "    \n",
    "    if not wdw_df.empty:\n",
    "        wdw_df = wdw_df.merge(df, how=\"outer\", left_index=True, right_index=True)\n",
    "    else:\n",
    "        wdw_df = df\n",
    "        \n",
    "wdw_df = wdw_df.fillna(-1)\n",
    "wdw_df"
   ]
  },
  {
   "cell_type": "code",
   "execution_count": 5,
   "metadata": {},
   "outputs": [
    {
     "output_type": "execute_result",
     "data": {
      "text/plain": [
       "                  136550  16124144  16414579 16491297  16491299 16767263  \\\n",
       "last_pull                                                                  \n",
       "1616939436.37108    -1.0      -1.0      -1.0       15      -1.0       20   \n",
       "1616939737.7591     -1.0      -1.0      -1.0       15      -1.0       20   \n",
       "1616940038.48731    -1.0      -1.0      -1.0       10      -1.0       20   \n",
       "1616940341.58551    -1.0      -1.0      -1.0       10      -1.0       20   \n",
       "1616940644.43527    -1.0      -1.0      -1.0       10      -1.0       20   \n",
       "...                  ...       ...       ...      ...       ...      ...   \n",
       "1617716011.7734     -1.0      -1.0      -1.0       10      -1.0       20   \n",
       "1617716314.55725    -1.0      -1.0      -1.0       10      -1.0       20   \n",
       "1617818503.90082    -1.0      -1.0      -1.0       20      -1.0       20   \n",
       "1617818836.76763    -1.0      -1.0      -1.0       20      -1.0       20   \n",
       "1617819158.53114    -1.0      -1.0      -1.0       20      -1.0       20   \n",
       "\n",
       "                  16767276 16767284  17272158  2219610  ... 80010208 80010210  \\\n",
       "last_pull                                               ...                     \n",
       "1616939436.37108      -1.0       75      -1.0     -1.0  ...       20       20   \n",
       "1616939737.7591       -1.0       75      -1.0     -1.0  ...       20       20   \n",
       "1616940038.48731      -1.0       65      -1.0     -1.0  ...       20       20   \n",
       "1616940341.58551      -1.0       65      -1.0     -1.0  ...       20       20   \n",
       "1616940644.43527      -1.0       50      -1.0     -1.0  ...       20       20   \n",
       "...                    ...      ...       ...      ...  ...      ...      ...   \n",
       "1617716011.7734       -1.0       75      -1.0     -1.0  ...       15       20   \n",
       "1617716314.55725      -1.0       75      -1.0     -1.0  ...       15       20   \n",
       "1617818503.90082      -1.0       55      -1.0     -1.0  ...       15       20   \n",
       "1617818836.76763      -1.0       55      -1.0     -1.0  ...       15       20   \n",
       "1617819158.53114      -1.0       55      -1.0     -1.0  ...       35       20   \n",
       "\n",
       "                 80010213 80010220 80010222 80010224 80010230  80010232  \\\n",
       "last_pull                                                                 \n",
       "1616939436.37108       15       -1       20     -1.0     -1.0         5   \n",
       "1616939737.7591        15       -1       20     -1.0     -1.0         5   \n",
       "1616940038.48731       15       -1       20     -1.0     -1.0         5   \n",
       "1616940341.58551       15       -1       20     -1.0     -1.0        10   \n",
       "1616940644.43527       25       -1       20     -1.0     -1.0        10   \n",
       "...                   ...      ...      ...      ...      ...       ...   \n",
       "1617716011.7734        35       -1       15     -1.0     -1.0         5   \n",
       "1617716314.55725       15       -1       15     -1.0     -1.0        10   \n",
       "1617818503.90082       30       40       20     -1.0     -1.0        15   \n",
       "1617818836.76763       30       40       20     -1.0     -1.0        15   \n",
       "1617819158.53114       30       40       20     -1.0     -1.0        15   \n",
       "\n",
       "                 80069748  80069754  \n",
       "last_pull                            \n",
       "1616939436.37108       -1      -1.0  \n",
       "1616939737.7591        -1      -1.0  \n",
       "1616940038.48731       -1      -1.0  \n",
       "1616940341.58551       -1      -1.0  \n",
       "1616940644.43527       -1      -1.0  \n",
       "...                   ...       ...  \n",
       "1617716011.7734        -1      -1.0  \n",
       "1617716314.55725       -1      -1.0  \n",
       "1617818503.90082       30      -1.0  \n",
       "1617818836.76763       30      -1.0  \n",
       "1617819158.53114       30      -1.0  \n",
       "\n",
       "[1819 rows x 36 columns]"
      ],
      "text/html": "<div>\n<style scoped>\n    .dataframe tbody tr th:only-of-type {\n        vertical-align: middle;\n    }\n\n    .dataframe tbody tr th {\n        vertical-align: top;\n    }\n\n    .dataframe thead th {\n        text-align: right;\n    }\n</style>\n<table border=\"1\" class=\"dataframe\">\n  <thead>\n    <tr style=\"text-align: right;\">\n      <th></th>\n      <th>136550</th>\n      <th>16124144</th>\n      <th>16414579</th>\n      <th>16491297</th>\n      <th>16491299</th>\n      <th>16767263</th>\n      <th>16767276</th>\n      <th>16767284</th>\n      <th>17272158</th>\n      <th>2219610</th>\n      <th>...</th>\n      <th>80010208</th>\n      <th>80010210</th>\n      <th>80010213</th>\n      <th>80010220</th>\n      <th>80010222</th>\n      <th>80010224</th>\n      <th>80010230</th>\n      <th>80010232</th>\n      <th>80069748</th>\n      <th>80069754</th>\n    </tr>\n    <tr>\n      <th>last_pull</th>\n      <th></th>\n      <th></th>\n      <th></th>\n      <th></th>\n      <th></th>\n      <th></th>\n      <th></th>\n      <th></th>\n      <th></th>\n      <th></th>\n      <th></th>\n      <th></th>\n      <th></th>\n      <th></th>\n      <th></th>\n      <th></th>\n      <th></th>\n      <th></th>\n      <th></th>\n      <th></th>\n      <th></th>\n    </tr>\n  </thead>\n  <tbody>\n    <tr>\n      <th>1616939436.37108</th>\n      <td>-1.0</td>\n      <td>-1.0</td>\n      <td>-1.0</td>\n      <td>15</td>\n      <td>-1.0</td>\n      <td>20</td>\n      <td>-1.0</td>\n      <td>75</td>\n      <td>-1.0</td>\n      <td>-1.0</td>\n      <td>...</td>\n      <td>20</td>\n      <td>20</td>\n      <td>15</td>\n      <td>-1</td>\n      <td>20</td>\n      <td>-1.0</td>\n      <td>-1.0</td>\n      <td>5</td>\n      <td>-1</td>\n      <td>-1.0</td>\n    </tr>\n    <tr>\n      <th>1616939737.7591</th>\n      <td>-1.0</td>\n      <td>-1.0</td>\n      <td>-1.0</td>\n      <td>15</td>\n      <td>-1.0</td>\n      <td>20</td>\n      <td>-1.0</td>\n      <td>75</td>\n      <td>-1.0</td>\n      <td>-1.0</td>\n      <td>...</td>\n      <td>20</td>\n      <td>20</td>\n      <td>15</td>\n      <td>-1</td>\n      <td>20</td>\n      <td>-1.0</td>\n      <td>-1.0</td>\n      <td>5</td>\n      <td>-1</td>\n      <td>-1.0</td>\n    </tr>\n    <tr>\n      <th>1616940038.48731</th>\n      <td>-1.0</td>\n      <td>-1.0</td>\n      <td>-1.0</td>\n      <td>10</td>\n      <td>-1.0</td>\n      <td>20</td>\n      <td>-1.0</td>\n      <td>65</td>\n      <td>-1.0</td>\n      <td>-1.0</td>\n      <td>...</td>\n      <td>20</td>\n      <td>20</td>\n      <td>15</td>\n      <td>-1</td>\n      <td>20</td>\n      <td>-1.0</td>\n      <td>-1.0</td>\n      <td>5</td>\n      <td>-1</td>\n      <td>-1.0</td>\n    </tr>\n    <tr>\n      <th>1616940341.58551</th>\n      <td>-1.0</td>\n      <td>-1.0</td>\n      <td>-1.0</td>\n      <td>10</td>\n      <td>-1.0</td>\n      <td>20</td>\n      <td>-1.0</td>\n      <td>65</td>\n      <td>-1.0</td>\n      <td>-1.0</td>\n      <td>...</td>\n      <td>20</td>\n      <td>20</td>\n      <td>15</td>\n      <td>-1</td>\n      <td>20</td>\n      <td>-1.0</td>\n      <td>-1.0</td>\n      <td>10</td>\n      <td>-1</td>\n      <td>-1.0</td>\n    </tr>\n    <tr>\n      <th>1616940644.43527</th>\n      <td>-1.0</td>\n      <td>-1.0</td>\n      <td>-1.0</td>\n      <td>10</td>\n      <td>-1.0</td>\n      <td>20</td>\n      <td>-1.0</td>\n      <td>50</td>\n      <td>-1.0</td>\n      <td>-1.0</td>\n      <td>...</td>\n      <td>20</td>\n      <td>20</td>\n      <td>25</td>\n      <td>-1</td>\n      <td>20</td>\n      <td>-1.0</td>\n      <td>-1.0</td>\n      <td>10</td>\n      <td>-1</td>\n      <td>-1.0</td>\n    </tr>\n    <tr>\n      <th>...</th>\n      <td>...</td>\n      <td>...</td>\n      <td>...</td>\n      <td>...</td>\n      <td>...</td>\n      <td>...</td>\n      <td>...</td>\n      <td>...</td>\n      <td>...</td>\n      <td>...</td>\n      <td>...</td>\n      <td>...</td>\n      <td>...</td>\n      <td>...</td>\n      <td>...</td>\n      <td>...</td>\n      <td>...</td>\n      <td>...</td>\n      <td>...</td>\n      <td>...</td>\n      <td>...</td>\n    </tr>\n    <tr>\n      <th>1617716011.7734</th>\n      <td>-1.0</td>\n      <td>-1.0</td>\n      <td>-1.0</td>\n      <td>10</td>\n      <td>-1.0</td>\n      <td>20</td>\n      <td>-1.0</td>\n      <td>75</td>\n      <td>-1.0</td>\n      <td>-1.0</td>\n      <td>...</td>\n      <td>15</td>\n      <td>20</td>\n      <td>35</td>\n      <td>-1</td>\n      <td>15</td>\n      <td>-1.0</td>\n      <td>-1.0</td>\n      <td>5</td>\n      <td>-1</td>\n      <td>-1.0</td>\n    </tr>\n    <tr>\n      <th>1617716314.55725</th>\n      <td>-1.0</td>\n      <td>-1.0</td>\n      <td>-1.0</td>\n      <td>10</td>\n      <td>-1.0</td>\n      <td>20</td>\n      <td>-1.0</td>\n      <td>75</td>\n      <td>-1.0</td>\n      <td>-1.0</td>\n      <td>...</td>\n      <td>15</td>\n      <td>20</td>\n      <td>15</td>\n      <td>-1</td>\n      <td>15</td>\n      <td>-1.0</td>\n      <td>-1.0</td>\n      <td>10</td>\n      <td>-1</td>\n      <td>-1.0</td>\n    </tr>\n    <tr>\n      <th>1617818503.90082</th>\n      <td>-1.0</td>\n      <td>-1.0</td>\n      <td>-1.0</td>\n      <td>20</td>\n      <td>-1.0</td>\n      <td>20</td>\n      <td>-1.0</td>\n      <td>55</td>\n      <td>-1.0</td>\n      <td>-1.0</td>\n      <td>...</td>\n      <td>15</td>\n      <td>20</td>\n      <td>30</td>\n      <td>40</td>\n      <td>20</td>\n      <td>-1.0</td>\n      <td>-1.0</td>\n      <td>15</td>\n      <td>30</td>\n      <td>-1.0</td>\n    </tr>\n    <tr>\n      <th>1617818836.76763</th>\n      <td>-1.0</td>\n      <td>-1.0</td>\n      <td>-1.0</td>\n      <td>20</td>\n      <td>-1.0</td>\n      <td>20</td>\n      <td>-1.0</td>\n      <td>55</td>\n      <td>-1.0</td>\n      <td>-1.0</td>\n      <td>...</td>\n      <td>15</td>\n      <td>20</td>\n      <td>30</td>\n      <td>40</td>\n      <td>20</td>\n      <td>-1.0</td>\n      <td>-1.0</td>\n      <td>15</td>\n      <td>30</td>\n      <td>-1.0</td>\n    </tr>\n    <tr>\n      <th>1617819158.53114</th>\n      <td>-1.0</td>\n      <td>-1.0</td>\n      <td>-1.0</td>\n      <td>20</td>\n      <td>-1.0</td>\n      <td>20</td>\n      <td>-1.0</td>\n      <td>55</td>\n      <td>-1.0</td>\n      <td>-1.0</td>\n      <td>...</td>\n      <td>35</td>\n      <td>20</td>\n      <td>30</td>\n      <td>40</td>\n      <td>20</td>\n      <td>-1.0</td>\n      <td>-1.0</td>\n      <td>15</td>\n      <td>30</td>\n      <td>-1.0</td>\n    </tr>\n  </tbody>\n</table>\n<p>1819 rows × 36 columns</p>\n</div>"
     },
     "metadata": {},
     "execution_count": 5
    }
   ],
   "source": [
    "mk = mt.Park(mt.ids.MK_ID)\n",
    "t = mk.get_attraction_wait_times().keys()\n",
    "wdw_df[t]"
   ]
  },
  {
   "cell_type": "code",
   "execution_count": 6,
   "metadata": {},
   "outputs": [],
   "source": [
    "from sklearn.model_selection import train_test_split\n",
    "from sklearn.linear_model import LinearRegression\n",
    "from sklearn.neural_network import MLPRegressor\n",
    "from sklearn.ensemble import RandomForestRegressor"
   ]
  },
  {
   "cell_type": "code",
   "execution_count": 10,
   "metadata": {},
   "outputs": [
    {
     "output_type": "stream",
     "name": "stdout",
     "text": [
      "Attraction object for Buzz Lightyear's Space Ranger Spin\n"
     ]
    }
   ],
   "source": [
    "y_id = \"80010114\"\n",
    "print(mt.Attraction(y_id))\n",
    "\n",
    "# this_df = wdw_df[wdw_df[y_id] != -1]\n",
    "this_df = wdw_df[t].copy()\n",
    "this_df = this_df[this_df[y_id] != -1]\n",
    "\n",
    "X = this_df[this_df.columns.difference([y_id])].drop(this_df.index[0])\n",
    "y = this_df[y_id].shift(-1).dropna().ravel()\n",
    "\n",
    "X_train, X_test, y_train, y_test = train_test_split(X, y, test_size=0.20)"
   ]
  },
  {
   "cell_type": "code",
   "execution_count": 11,
   "metadata": {},
   "outputs": [
    {
     "output_type": "execute_result",
     "data": {
      "text/plain": [
       "0.8986384869679576"
      ]
     },
     "metadata": {},
     "execution_count": 11
    }
   ],
   "source": [
    "# model = LinearRegression().fit(X_train, y_train)\n",
    "# model = MLPRegressor(max_iter=1000).fit(X_train, y_train)\n",
    "model = RandomForestRegressor().fit(X_train, y_train)\n",
    "model.score(X_test, y_test)"
   ]
  },
  {
   "cell_type": "code",
   "execution_count": 78,
   "metadata": {},
   "outputs": [
    {
     "name": "stdout",
     "output_type": "stream",
     "text": [
      "[43.3]\n",
      "45\n"
     ]
    }
   ],
   "source": [
    "index = 500\n",
    "print(model.predict(X_test.iloc[index].ravel().reshape(1,-1)))\n",
    "print(y_test[index])"
   ]
  },
  {
   "cell_type": "code",
   "execution_count": 12,
   "metadata": {},
   "outputs": [
    {
     "output_type": "execute_result",
     "data": {
      "text/plain": [
       "{'16491297': LinearRegression(),\n",
       " '16767263': LinearRegression(),\n",
       " '16767284': LinearRegression(),\n",
       " '80010107': LinearRegression(),\n",
       " '80010110': LinearRegression(),\n",
       " '80010114': LinearRegression(),\n",
       " '80010117': LinearRegression(),\n",
       " '80010129': LinearRegression(),\n",
       " '80010149': LinearRegression(),\n",
       " '80010153': LinearRegression(),\n",
       " '80010162': LinearRegression(),\n",
       " '80010170': LinearRegression(),\n",
       " '80010176': LinearRegression(),\n",
       " '80010177': LinearRegression(),\n",
       " '80010190': LinearRegression(),\n",
       " '80010192': LinearRegression(),\n",
       " '80010208': LinearRegression(),\n",
       " '80010210': LinearRegression(),\n",
       " '80010213': LinearRegression(),\n",
       " '80010220': LinearRegression(),\n",
       " '80010222': LinearRegression(),\n",
       " '80010232': LinearRegression(),\n",
       " '80069748': LinearRegression(),\n",
       " '107785': LinearRegression(),\n",
       " '18375495': LinearRegression(),\n",
       " '20194': LinearRegression(),\n",
       " '207395': LinearRegression(),\n",
       " '80010152': LinearRegression(),\n",
       " '80010161': LinearRegression(),\n",
       " '80010173': LinearRegression(),\n",
       " '80010191': LinearRegression(),\n",
       " '80010199': LinearRegression(),\n",
       " '18770880': LinearRegression(),\n",
       " '18904138': LinearRegression(),\n",
       " '18904172': LinearRegression(),\n",
       " '19259335': LinearRegression(),\n",
       " '19263735': LinearRegression(),\n",
       " '19276204': LinearRegression(),\n",
       " '19497952': LinearRegression(),\n",
       " '209857': LinearRegression(),\n",
       " '80010151': LinearRegression(),\n",
       " '80010182': LinearRegression(),\n",
       " '80010193': LinearRegression(),\n",
       " '80010218': LinearRegression(),\n",
       " '18665185': LinearRegression(),\n",
       " '18665186': LinearRegression(),\n",
       " '26068': LinearRegression(),\n",
       " '80010123': LinearRegression(),\n",
       " '80010150': LinearRegression(),\n",
       " '80010154': LinearRegression(),\n",
       " '80010157': LinearRegression(),\n",
       " '80010228': LinearRegression()}"
      ]
     },
     "metadata": {},
     "execution_count": 12
    }
   ],
   "source": [
    "n=5\n",
    "all_models = {}\n",
    "for y_id in wdw_df.columns:\n",
    "    this_df = wdw_df[wdw_df[y_id] != -1]\n",
    "    if this_df.empty:\n",
    "        continue\n",
    "\n",
    "    X = this_df[this_df.columns.difference([y_id])].drop(this_df.index[0:n])\n",
    "    y = this_df[y_id].shift(-n).dropna().ravel()\n",
    "\n",
    "    X_train, X_test, y_train, y_test = train_test_split(X, y, test_size=0.20)\n",
    "    \n",
    "    clf = LinearRegression().fit(X_train, y_train)\n",
    "    all_models[y_id] = clf\n",
    "    \n",
    "all_models"
   ]
  },
  {
   "cell_type": "code",
   "execution_count": 86,
   "metadata": {},
   "outputs": [
    {
     "data": {
      "text/plain": [
       "52"
      ]
     },
     "execution_count": 86,
     "metadata": {},
     "output_type": "execute_result"
    }
   ],
   "source": [
    "len(all_models.keys())"
   ]
  },
  {
   "cell_type": "code",
   "execution_count": null,
   "metadata": {},
   "outputs": [],
   "source": []
  }
 ],
 "metadata": {
  "kernelspec": {
   "name": "python392jvsc74a57bd0508208945b4fb5de9ce3f331150ed03af9aa9a6faea92f98d641258b6d2c15f4",
   "display_name": "Python 3.9.2 64-bit"
  },
  "language_info": {
   "codemirror_mode": {
    "name": "ipython",
    "version": 3
   },
   "file_extension": ".py",
   "mimetype": "text/x-python",
   "name": "python",
   "nbconvert_exporter": "python",
   "pygments_lexer": "ipython3",
   "version": "3.9.2-final"
  }
 },
 "nbformat": 4,
 "nbformat_minor": 4
}