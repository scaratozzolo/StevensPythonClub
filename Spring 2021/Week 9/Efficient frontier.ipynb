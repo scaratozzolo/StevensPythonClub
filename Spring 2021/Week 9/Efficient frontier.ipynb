{
 "cells": [
  {
   "cell_type": "markdown",
   "id": "magnetic-cleaner",
   "metadata": {},
   "source": [
    "## 1.1"
   ]
  },
  {
   "cell_type": "code",
   "execution_count": 1,
   "id": "decreased-casting",
   "metadata": {},
   "outputs": [],
   "source": [
    "import numpy as np"
   ]
  },
  {
   "cell_type": "code",
   "execution_count": 3,
   "id": "stylish-shade",
   "metadata": {},
   "outputs": [],
   "source": [
    "cov = np.array([[.1, .02, .01],\n",
    "                [.02, .11, .03],\n",
    "                [.01, .03, .2]])\n",
    "\n",
    "cov_inv = np.linalg.pinv(cov)\n",
    "\n",
    "rho = np.array([.045, .003, .0285]).reshape(-1, 1)\n",
    "\n",
    "e = np.array([[1],[1],[1]])"
   ]
  },
  {
   "cell_type": "code",
   "execution_count": 7,
   "id": "happy-producer",
   "metadata": {},
   "outputs": [
    {
     "data": {
      "text/plain": [
       "array([[0.44946809],\n",
       "       [0.35638298],\n",
       "       [0.19414894]])"
      ]
     },
     "execution_count": 7,
     "metadata": {},
     "output_type": "execute_result"
    }
   ],
   "source": [
    "# P* Global Min Variance Portfolio\n",
    "w = (np.linalg.pinv(cov).dot(e))/(e.T.dot(np.linalg.pinv(cov).dot(e)))\n",
    "w.round(4)\n",
    "(cov_inv@e)/(e.T@cov_inv@e)"
   ]
  },
  {
   "cell_type": "code",
   "execution_count": 4,
   "id": "employed-wings",
   "metadata": {},
   "outputs": [
    {
     "data": {
      "text/plain": [
       "array([[0.0540161]])"
      ]
     },
     "execution_count": 4,
     "metadata": {},
     "output_type": "execute_result"
    }
   ],
   "source": [
    "1/(e.T.dot(np.linalg.pinv(cov).dot(e))).round(3)"
   ]
  },
  {
   "cell_type": "code",
   "execution_count": 10,
   "id": "completed-supervision",
   "metadata": {},
   "outputs": [
    {
     "data": {
      "text/plain": [
       "array([[0.02682846]])"
      ]
     },
     "execution_count": 10,
     "metadata": {},
     "output_type": "execute_result"
    }
   ],
   "source": [
    "np.sum(rho * w)\n",
    "w.T@rho"
   ]
  },
  {
   "cell_type": "markdown",
   "id": "sealed-charles",
   "metadata": {},
   "source": [
    "## 1.2"
   ]
  },
  {
   "cell_type": "code",
   "execution_count": 22,
   "id": "imperial-gentleman",
   "metadata": {},
   "outputs": [],
   "source": [
    "# https://www.math.ust.hk/~maykwok/courses/ma362/Topic2.pdf\n",
    "a = e.T.dot(cov_inv).dot(e)\n",
    "b = e.T.dot(cov_inv).dot(rho)\n",
    "c = rho.T.dot(cov_inv).dot(rho)\n",
    "delta = a*c - b**2"
   ]
  },
  {
   "cell_type": "code",
   "execution_count": 23,
   "id": "handed-maker",
   "metadata": {},
   "outputs": [
    {
     "data": {
      "text/plain": [
       "array([0.015])"
      ]
     },
     "execution_count": 23,
     "metadata": {},
     "output_type": "execute_result"
    }
   ],
   "source": [
    "#P1\n",
    "er_1 = rho[0]/3\n",
    "lam_1 = (c-b*er_1)/delta\n",
    "lam_2 = (a*er_1-b)/delta\n",
    "er_1"
   ]
  },
  {
   "cell_type": "code",
   "execution_count": 24,
   "id": "blocked-relations",
   "metadata": {},
   "outputs": [
    {
     "data": {
      "text/plain": [
       "array([[0.19278391],\n",
       "       [0.65415429],\n",
       "       [0.1530618 ]])"
      ]
     },
     "execution_count": 24,
     "metadata": {},
     "output_type": "execute_result"
    }
   ],
   "source": [
    "cov_inv@(lam_1*e + lam_2*rho)"
   ]
  },
  {
   "cell_type": "code",
   "execution_count": 25,
   "id": "northern-slovak",
   "metadata": {},
   "outputs": [
    {
     "data": {
      "text/plain": [
       "array([[0.19278391],\n",
       "       [0.65415429],\n",
       "       [0.1530618 ]])"
      ]
     },
     "execution_count": 25,
     "metadata": {},
     "output_type": "execute_result"
    }
   ],
   "source": [
    "w_1 = cov_inv.dot((lam_1*e + lam_2*rho))\n",
    "w_1"
   ]
  },
  {
   "cell_type": "code",
   "execution_count": 26,
   "id": "virgin-casting",
   "metadata": {},
   "outputs": [
    {
     "data": {
      "text/plain": [
       "array([[0.2590661]])"
      ]
     },
     "execution_count": 26,
     "metadata": {},
     "output_type": "execute_result"
    }
   ],
   "source": [
    "#volatility\n",
    "np.sqrt(w_1.T.dot(cov).dot(w_1))"
   ]
  },
  {
   "cell_type": "code",
   "execution_count": 27,
   "id": "allied-plumbing",
   "metadata": {},
   "outputs": [
    {
     "data": {
      "text/plain": [
       "0.014999999999999996"
      ]
     },
     "execution_count": 27,
     "metadata": {},
     "output_type": "execute_result"
    }
   ],
   "source": [
    "np.sum(rho * w_1)"
   ]
  },
  {
   "cell_type": "code",
   "execution_count": 28,
   "id": "religious-dayton",
   "metadata": {},
   "outputs": [
    {
     "data": {
      "text/plain": [
       "array([0.0315])"
      ]
     },
     "execution_count": 28,
     "metadata": {},
     "output_type": "execute_result"
    }
   ],
   "source": [
    "#P2\n",
    "er_2 = rho[1] + rho[2]\n",
    "lam_1 = (c-b*er_2)/delta\n",
    "lam_2 = (a*er_2-b)/delta\n",
    "er_2"
   ]
  },
  {
   "cell_type": "code",
   "execution_count": 29,
   "id": "dangerous-vision",
   "metadata": {},
   "outputs": [
    {
     "data": {
      "text/plain": [
       "array([[0.55084318],\n",
       "       [0.23878088],\n",
       "       [0.21037593]])"
      ]
     },
     "execution_count": 29,
     "metadata": {},
     "output_type": "execute_result"
    }
   ],
   "source": [
    "w_2 = cov_inv.dot((lam_1*e + lam_2*rho))\n",
    "w_2"
   ]
  },
  {
   "cell_type": "code",
   "execution_count": 30,
   "id": "imported-honor",
   "metadata": {},
   "outputs": [
    {
     "data": {
      "text/plain": [
       "array([[0.23676816]])"
      ]
     },
     "execution_count": 30,
     "metadata": {},
     "output_type": "execute_result"
    }
   ],
   "source": [
    "#volatility\n",
    "np.sqrt(w_2.T.dot(cov).dot(w_2))"
   ]
  },
  {
   "cell_type": "code",
   "execution_count": 31,
   "id": "nervous-pipeline",
   "metadata": {},
   "outputs": [
    {
     "data": {
      "text/plain": [
       "0.031499999999999986"
      ]
     },
     "execution_count": 31,
     "metadata": {},
     "output_type": "execute_result"
    }
   ],
   "source": [
    "np.sum(rho * w_2)"
   ]
  },
  {
   "cell_type": "markdown",
   "id": "overall-motor",
   "metadata": {},
   "source": [
    "## 1.3"
   ]
  },
  {
   "cell_type": "code",
   "execution_count": 32,
   "id": "prescribed-introduction",
   "metadata": {},
   "outputs": [
    {
     "data": {
      "text/plain": [
       "0.0255"
      ]
     },
     "execution_count": 32,
     "metadata": {},
     "output_type": "execute_result"
    }
   ],
   "source": [
    "#P3\n",
    "er_3 = np.sum(rho)/3\n",
    "er_3"
   ]
  },
  {
   "cell_type": "code",
   "execution_count": 33,
   "id": "monetary-november",
   "metadata": {},
   "outputs": [
    {
     "data": {
      "text/plain": [
       "array([[0.42063981],\n",
       "       [0.38982576],\n",
       "       [0.18953443]])"
      ]
     },
     "execution_count": 33,
     "metadata": {},
     "output_type": "execute_result"
    }
   ],
   "source": [
    "x = -0.006/-0.0165\n",
    "w_3 = x*w_1 + (1-x)*w_2\n",
    "w_3"
   ]
  },
  {
   "cell_type": "code",
   "execution_count": 34,
   "id": "constitutional-possession",
   "metadata": {},
   "outputs": [
    {
     "data": {
      "text/plain": [
       "array([[0.23276853]])"
      ]
     },
     "execution_count": 34,
     "metadata": {},
     "output_type": "execute_result"
    }
   ],
   "source": [
    "np.sqrt(w_3.T.dot(cov).dot(w_3))"
   ]
  },
  {
   "cell_type": "code",
   "execution_count": 35,
   "id": "received-batch",
   "metadata": {},
   "outputs": [
    {
     "data": {
      "text/plain": [
       "0.025499999999999988"
      ]
     },
     "execution_count": 35,
     "metadata": {},
     "output_type": "execute_result"
    }
   ],
   "source": [
    "np.sum(rho * w_3)"
   ]
  },
  {
   "cell_type": "markdown",
   "id": "backed-supplier",
   "metadata": {},
   "source": [
    "## 1.4"
   ]
  },
  {
   "cell_type": "code",
   "execution_count": 36,
   "id": "based-london",
   "metadata": {},
   "outputs": [],
   "source": [
    "import scipy.optimize as opt\n",
    "import matplotlib.pyplot as plt"
   ]
  },
  {
   "cell_type": "code",
   "execution_count": 37,
   "id": "rental-dressing",
   "metadata": {},
   "outputs": [],
   "source": [
    "def get_ret_vol_sr(weights):\n",
    "        \"\"\"\n",
    "        Calculates the returns, volatility, and sharpe of a portfolio with given weights\n",
    "        \"\"\"\n",
    "        weights = np.array(weights)\n",
    "        ret = weights.T@rho\n",
    "        vol = np.sqrt(weights.T.dot(cov).dot(weights))\n",
    "        sr = ret/vol\n",
    "        return np.array([ret, vol, sr], dtype=object)\n",
    "\n",
    "\n",
    "def minimize_volatility(weights):\n",
    "    return get_ret_vol_sr(weights)[1]\n",
    "\n",
    "\n",
    "def opt_target_return(er):\n",
    "    cons = ({'type':'eq', 'fun': lambda x: np.sum(x)-1},\n",
    "            {'type':'eq', 'fun': lambda x: (get_ret_vol_sr(x)[0] - er)})\n",
    "\n",
    "    bounds = tuple((0,1) for _ in range(3))\n",
    "    init_guess = [1/3 for _ in range(3)]\n",
    "\n",
    "    opt_results = opt.minimize(minimize_volatility, init_guess, method='SLSQP', bounds=bounds, constraints=cons)\n",
    "    return opt_results"
   ]
  },
  {
   "cell_type": "code",
   "execution_count": 54,
   "id": "roman-scholar",
   "metadata": {},
   "outputs": [
    {
     "data": {
      "text/plain": [
       "array([0.02682846])"
      ]
     },
     "execution_count": 54,
     "metadata": {},
     "output_type": "execute_result"
    }
   ],
   "source": [
    "from quadprog import solve_qp\n",
    "\n",
    "P = cov\n",
    "q = np.array([0,0,0]).reshape(3,)\n",
    "\n",
    "A = np.concatenate((np.array([1,1,1]).reshape(-1, 1), rho), axis=1)\n",
    "b = np.array([1, 0.015])\n",
    "\n",
    "t = solve_qp(cov.astype(np.double), np.array([0,0,0]).astype(np.double), A.astype(np.double), b.astype(np.double))[0]\n",
    "t.T@rho\n",
    "# Ax = b\n",
    "# 1*w1 + 1*w2 + 1*w3 = 1\n",
    "# 0.045 * w1 + 0.003*w2 + 0.0285*w3 = er\n",
    "# Kinda worked?"
   ]
  },
  {
   "cell_type": "code",
   "execution_count": 56,
   "id": "known-melissa",
   "metadata": {},
   "outputs": [
    {
     "data": {
      "text/plain": [
       "array([0.19278391, 0.65415429, 0.1530618 ])"
      ]
     },
     "execution_count": 56,
     "metadata": {},
     "output_type": "execute_result"
    }
   ],
   "source": [
    "from cvxopt import matrix, solvers\n",
    "\n",
    "P = np.array(cov)\n",
    "q = np.array([0]*len(rho)).reshape(len(rho),)\n",
    "\n",
    "A = np.concatenate((np.ones(len(rho)).reshape(-1, 1), rho), axis=1).T\n",
    "b = np.array([1, 0.015])\n",
    "\n",
    "def quadprog(P, q, G=None, h=None, A=None, b=None):\n",
    "    P, q = matrix(P), matrix(np.ones(P.shape[0]) * -1)\n",
    "\n",
    "    if G is not None:\n",
    "        G, h = matrix(G), matrix(h)\n",
    "\n",
    "    if A is not None:\n",
    "        A, b = matrix(A), matrix(b)\n",
    "\n",
    "    sol = solvers.qp(P, q, G, h, A, b)\n",
    "\n",
    "    return np.array(sol['x']).ravel()\n",
    "\n",
    "quadprog(P=P, q=q, A=A, b=b)\n",
    "# Did work"
   ]
  },
  {
   "cell_type": "code",
   "execution_count": 38,
   "id": "invalid-break",
   "metadata": {},
   "outputs": [
    {
     "name": "stdout",
     "output_type": "stream",
     "text": [
      "P1:\n",
      "Calculated weights: \n",
      "[[0.1928]\n",
      " [0.6542]\n",
      " [0.1531]], \n",
      "\n",
      "Opt weights: \n",
      "[[0.1929]\n",
      " [0.6542]\n",
      " [0.1529]]\n"
     ]
    }
   ],
   "source": [
    "#Portfolio 1\n",
    "print(f\"P1:\\nCalculated weights: \\n{w_1.round(4)}, \\n\\nOpt weights: \\n{opt_target_return(er_1)['x'].reshape(-1, 1).round(4)}\")"
   ]
  },
  {
   "cell_type": "code",
   "execution_count": 41,
   "id": "listed-perfume",
   "metadata": {},
   "outputs": [
    {
     "name": "stdout",
     "output_type": "stream",
     "text": [
      "P2:\n",
      "Calculated weights: \n",
      "[[0.5508]\n",
      " [0.2388]\n",
      " [0.2104]], \n",
      "\n",
      "Opt weights: \n",
      "[[0.5509]\n",
      " [0.2388]\n",
      " [0.2102]]\n"
     ]
    }
   ],
   "source": [
    "#Portfolio 2\n",
    "print(f\"P2:\\nCalculated weights: \\n{w_2.round(4)}, \\n\\nOpt weights: \\n{opt_target_return(er_2)['x'].reshape(-1, 1).round(4)}\")"
   ]
  },
  {
   "cell_type": "code",
   "execution_count": 42,
   "id": "chicken-parker",
   "metadata": {},
   "outputs": [
    {
     "name": "stdout",
     "output_type": "stream",
     "text": [
      "P3:\n",
      "Calculated weights: \n",
      "[[0.4206]\n",
      " [0.3898]\n",
      " [0.1895]], \n",
      "\n",
      "Opt weights: \n",
      "[[0.4206]\n",
      " [0.3898]\n",
      " [0.1896]]\n"
     ]
    }
   ],
   "source": [
    "#Portfolio 3\n",
    "print(f\"P3:\\nCalculated weights: \\n{w_3.round(4)}, \\n\\nOpt weights: \\n{opt_target_return(er_3)['x'].reshape(-1, 1).round(4)}\")"
   ]
  },
  {
   "cell_type": "markdown",
   "id": "solid-listening",
   "metadata": {},
   "source": [
    "### Efficient Frontier"
   ]
  },
  {
   "cell_type": "code",
   "execution_count": 57,
   "id": "billion-design",
   "metadata": {},
   "outputs": [],
   "source": [
    "vols = []\n",
    "rets = []\n",
    "for i in np.arange(-5, 5, 0.01):\n",
    "    w = i*w_1 + (1-i)*w_2\n",
    "    t = get_ret_vol_sr(w)\n",
    "    rets.append(t[0][0])\n",
    "    vols.append(t[1][0])"
   ]
  },
  {
   "cell_type": "code",
   "execution_count": 59,
   "id": "stuck-editor",
   "metadata": {},
   "outputs": [],
   "source": [
    "# From class slides\n",
    "delta = (rho.T.dot(cov_inv).dot(rho)) * (e.T.dot(cov_inv).dot(e)) - (rho.T.dot(cov_inv).dot(e))**2\n",
    "A = rho.T.dot(cov_inv).dot(e)\n",
    "B = rho.T.dot(cov_inv).dot(rho)\n",
    "C = e.T.dot(cov_inv).dot(e)\n",
    "\n",
    "asymp_1s = []\n",
    "asymp_2s = []\n",
    "vols_range = np.arange(0, np.max(vols), 0.001)\n",
    "for sigma in vols_range:\n",
    "    asymptote_1 = np.sqrt(delta/C)*sigma + (A/C)\n",
    "    asymptote_2 = -np.sqrt(delta/C)*sigma + (A/C)\n",
    "    \n",
    "    asymp_1s.append(asymptote_1[0])\n",
    "    asymp_2s.append(asymptote_2[0])"
   ]
  },
  {
   "cell_type": "code",
   "execution_count": 60,
   "id": "noticed-essay",
   "metadata": {},
   "outputs": [
    {
     "data": {
      "image/png": "[encoded data removed]",
      "text/plain": [
       "<Figure size 432x288 with 1 Axes>"
      ]
     },
     "metadata": {
      "needs_background": "light"
     },
     "output_type": "display_data"
    }
   ],
   "source": [
    "plt.plot(vols, rets)\n",
    "plt.title(\"Efficient Frontier\")\n",
    "plt.xlabel(\"Volatility\")\n",
    "plt.ylabel(\"Returns\")\n",
    "plt.plot(get_ret_vol_sr(w_3)[1][0], get_ret_vol_sr(w_3)[0][0], marker=\"o\", label=\"P3\")\n",
    "plt.plot(vols_range, asymp_1s, color=\"pink\", label=\"Asymptote\")\n",
    "plt.plot(vols_range, asymp_2s, color=\"pink\")\n",
    "plt.plot(np.sqrt(cov[0][0]), rho[0], marker=\"*\", color=\"red\", label=\"S1\")\n",
    "plt.plot(np.sqrt(cov[1][1]), rho[1], marker=\"*\", color=\"green\", label=\"S2\")\n",
    "plt.plot(np.sqrt(cov[2][2]), rho[2], marker=\"*\", color=\"black\", label=\"S3\")\n",
    "plt.legend()\n",
    "plt.savefig('problem14_ef.png')"
   ]
  },
  {
   "cell_type": "code",
   "execution_count": 27,
   "id": "valued-graphics",
   "metadata": {},
   "outputs": [
    {
     "data": {
      "text/plain": [
       "array([array([0.045]), 0.31622776601683794, array([0.14230249])],\n",
       "      dtype=object)"
      ]
     },
     "execution_count": 27,
     "metadata": {},
     "output_type": "execute_result"
    }
   ],
   "source": [
    "get_ret_vol_sr([1,0,0])"
   ]
  },
  {
   "cell_type": "markdown",
   "id": "furnished-projection",
   "metadata": {},
   "source": [
    "## 2.1"
   ]
  },
  {
   "cell_type": "code",
   "execution_count": 61,
   "id": "rapid-national",
   "metadata": {},
   "outputs": [
    {
     "data": {
      "text/plain": [
       "array([[ 0.40509601],\n",
       "       [-0.13146233],\n",
       "       [ 0.11196455]])"
      ]
     },
     "execution_count": 61,
     "metadata": {},
     "output_type": "execute_result"
    }
   ],
   "source": [
    "# https://quantatrisk.com/2014/05/16/asset-allocation-for-tangent-portfolio-with-risk-free-asset-in-python/\n",
    "rho_0 = 0.006\n",
    "w_tan = cov_inv@(rho-rho_0)\n",
    "w_tan"
   ]
  },
  {
   "cell_type": "code",
   "execution_count": 64,
   "id": "dynamic-nickel",
   "metadata": {},
   "outputs": [
    {
     "data": {
      "text/plain": [
       "array([[ 1.05056503],\n",
       "       [-0.34093086],\n",
       "       [ 0.29036583]])"
      ]
     },
     "execution_count": 64,
     "metadata": {},
     "output_type": "execute_result"
    }
   ],
   "source": [
    "w_tan = w_tan/np.sum(w_tan)\n",
    "w_tan"
   ]
  },
  {
   "cell_type": "code",
   "execution_count": 65,
   "id": "related-woman",
   "metadata": {},
   "outputs": [],
   "source": [
    "tp_vol = np.sqrt(w_tan.T@cov@w_tan)"
   ]
  },
  {
   "cell_type": "code",
   "execution_count": 66,
   "id": "continent-butler",
   "metadata": {},
   "outputs": [],
   "source": [
    "tp_ret = w_tan.T@rho"
   ]
  },
  {
   "cell_type": "markdown",
   "id": "rental-joyce",
   "metadata": {},
   "source": [
    "## 2.2"
   ]
  },
  {
   "cell_type": "code",
   "execution_count": 67,
   "id": "funky-safety",
   "metadata": {},
   "outputs": [],
   "source": [
    "delta = (rho.T.dot(cov_inv).dot(rho)) * (e.T.dot(cov_inv).dot(e)) - (rho.T.dot(cov_inv).dot(e))**2\n",
    "A = rho.T.dot(cov_inv).dot(e)\n",
    "B = rho.T.dot(cov_inv).dot(rho)\n",
    "C = e.T.dot(cov_inv).dot(e)\n",
    "H = (rho-rho_0*e).T@cov_inv@(rho-rho_0*e)\n",
    "\n",
    "asymp_1s_tan = []\n",
    "asymp_2s_tan = []\n",
    "vols_range = np.arange(0, np.max(vols), 0.001)\n",
    "for sigma in vols_range:\n",
    "    asymptote_1 = rho_0 + np.sqrt(H)*sigma\n",
    "    asymptote_2 = rho_0 - np.sqrt(H)*sigma\n",
    "    \n",
    "    asymp_1s_tan.append(asymptote_1[0])\n",
    "    asymp_2s_tan.append(asymptote_2[0])"
   ]
  },
  {
   "cell_type": "code",
   "execution_count": 68,
   "id": "fluid-anderson",
   "metadata": {},
   "outputs": [
    {
     "data": {
      "image/png": "[encoded data removed]",
      "text/plain": [
       "<Figure size 432x288 with 1 Axes>"
      ]
     },
     "metadata": {
      "needs_background": "light"
     },
     "output_type": "display_data"
    }
   ],
   "source": [
    "plt.plot(vols, rets)\n",
    "plt.title(\"Efficient Frontier w/ Tangent Portfolio\")\n",
    "plt.xlabel(\"Volatility\")\n",
    "plt.ylabel(\"Returns\")\n",
    "\n",
    "plt.plot(get_ret_vol_sr(w_3)[1][0], get_ret_vol_sr(w_3)[0][0], marker=\"o\", label=\"P3\")\n",
    "\n",
    "plt.plot(vols_range, asymp_1s, color=\"pink\", label=\"Asymptote\")\n",
    "plt.plot(vols_range, asymp_2s, color=\"pink\")\n",
    "\n",
    "plt.plot(tp_vol, tp_ret, marker=\"^\", color=\"red\", label=\"Tangent Portfolio\")\n",
    "plt.plot(vols_range, asymp_1s_tan, color=\"purple\", label=\"Tangent EF\")\n",
    "plt.plot(vols_range, asymp_2s_tan, color=\"purple\")\n",
    "\n",
    "plt.plot(np.sqrt(cov[0][0]), rho[0], marker=\"*\", color=\"black\", label=\"S1\")\n",
    "plt.plot(np.sqrt(cov[1][1]), rho[1], marker=\"s\", color=\"black\", label=\"S2\")\n",
    "plt.plot(np.sqrt(cov[2][2]), rho[2], marker=\"p\", color=\"black\", label=\"S3\")\n",
    "\n",
    "plt.legend()\n",
    "plt.savefig('problem22_ef.png')"
   ]
  },
  {
   "cell_type": "markdown",
   "id": "starting-leisure",
   "metadata": {},
   "source": [
    "## 2.3"
   ]
  },
  {
   "cell_type": "code",
   "execution_count": 69,
   "id": "solved-anderson",
   "metadata": {},
   "outputs": [],
   "source": [
    "alpha = 0.0927\n",
    "w_4 = (1-alpha)*w_tan"
   ]
  },
  {
   "cell_type": "code",
   "execution_count": 70,
   "id": "brief-longitude",
   "metadata": {},
   "outputs": [
    {
     "data": {
      "text/plain": [
       "array([[0.32186953]])"
      ]
     },
     "execution_count": 70,
     "metadata": {},
     "output_type": "execute_result"
    }
   ],
   "source": [
    "np.sqrt(w_4.T@cov@w_4)"
   ]
  },
  {
   "cell_type": "markdown",
   "id": "objective-cover",
   "metadata": {},
   "source": [
    "## 2.4"
   ]
  },
  {
   "cell_type": "code",
   "execution_count": 71,
   "id": "boolean-reliance",
   "metadata": {},
   "outputs": [
    {
     "data": {
      "text/plain": [
       "array([[0.02788689]])"
      ]
     },
     "execution_count": 71,
     "metadata": {},
     "output_type": "execute_result"
    }
   ],
   "source": [
    "# Rearrange equation 43 from slides\n",
    "er_5 = (np.sqrt(H)*0.16) + rho_0\n",
    "er_5"
   ]
  },
  {
   "cell_type": "code",
   "execution_count": 72,
   "id": "postal-kentucky",
   "metadata": {},
   "outputs": [
    {
     "data": {
      "text/plain": [
       "array([[ 0.47412  ],\n",
       "       [-0.1538621],\n",
       "       [ 0.1310421]])"
      ]
     },
     "execution_count": 72,
     "metadata": {},
     "output_type": "execute_result"
    }
   ],
   "source": [
    "#0.0278 = alpha*0.006 + (1-alpha)*0.0545\n",
    "alpha = 0.5487\n",
    "w_5 = (1-alpha)*w_tan\n",
    "w_5"
   ]
  },
  {
   "cell_type": "code",
   "execution_count": 73,
   "id": "hearing-place",
   "metadata": {},
   "outputs": [
    {
     "data": {
      "text/plain": [
       "array([[0.16010109]])"
      ]
     },
     "execution_count": 73,
     "metadata": {},
     "output_type": "execute_result"
    }
   ],
   "source": [
    "np.sqrt(w_5.T@cov@w_5)"
   ]
  },
  {
   "cell_type": "markdown",
   "id": "functioning-quick",
   "metadata": {},
   "source": [
    "## 2.5"
   ]
  },
  {
   "cell_type": "code",
   "execution_count": 74,
   "id": "liberal-cholesterol",
   "metadata": {},
   "outputs": [
    {
     "data": {
      "image/png": "[encoded data removed]",
      "text/plain": [
       "<Figure size 432x288 with 1 Axes>"
      ]
     },
     "metadata": {
      "needs_background": "light"
     },
     "output_type": "display_data"
    }
   ],
   "source": [
    "plt.plot(vols, rets)\n",
    "plt.title(\"Efficient Frontier w/ Tangent Portfolio\")\n",
    "plt.xlabel(\"Volatility\")\n",
    "plt.ylabel(\"Returns\")\n",
    "\n",
    "plt.plot(get_ret_vol_sr(w_3)[1][0], get_ret_vol_sr(w_3)[0][0], marker=\"o\", label=\"P3\")\n",
    "\n",
    "plt.plot(vols_range, asymp_1s, color=\"pink\", label=\"Asymptote\")\n",
    "plt.plot(vols_range, asymp_2s, color=\"pink\")\n",
    "\n",
    "plt.plot(tp_vol, tp_ret, marker=\"^\", color=\"red\", label=\"Tangent Portfolio\")\n",
    "plt.plot(vols_range, asymp_1s_tan, color=\"purple\", label=\"Tangent EF\")\n",
    "plt.plot(vols_range, asymp_2s_tan, color=\"purple\")\n",
    "\n",
    "plt.plot(np.sqrt(cov[0][0]), rho[0], marker=\"*\", color=\"black\", label=\"S1\")\n",
    "plt.plot(np.sqrt(cov[1][1]), rho[1], marker=\"s\", color=\"black\", label=\"S2\")\n",
    "plt.plot(np.sqrt(cov[2][2]), rho[2], marker=\"p\", color=\"black\", label=\"S3\")\n",
    "\n",
    "plt.plot((np.sqrt(w_4.T@cov@w_4)).round(4), 0.05, marker=\"o\", color=\"green\", label=\"P4\")\n",
    "plt.plot(.16, er_5, marker=\"X\", color=\"green\", label=\"P5\")\n",
    "\n",
    "plt.legend()\n",
    "plt.savefig('problem25_ef.png')"
   ]
  },
  {
   "cell_type": "markdown",
   "id": "velvet-topic",
   "metadata": {},
   "source": [
    "## 3.1"
   ]
  },
  {
   "cell_type": "code",
   "execution_count": 75,
   "id": "sustained-damage",
   "metadata": {},
   "outputs": [],
   "source": [
    "import pandas as pd\n",
    "import pandas_datareader as pdr\n",
    "import yfinance as yf\n",
    "yf.pdr_override()"
   ]
  },
  {
   "cell_type": "code",
   "execution_count": 76,
   "id": "sensitive-reply",
   "metadata": {},
   "outputs": [],
   "source": [
    "universe = [\"FXE\",\"EWJ\", \"GLD\", \"QQQ\", \"SHV\", \"DBA\", \"USO\", \"XBI\",\"ILF\",\"EPP\", \"FEZ\"]\n",
    "\n",
    "u_data = pdr.get_data_yahoo([\"SPY\"] + universe, start=\"2020-01-01\", end=\"2021-03-30\")[\"Adj Close\"]\n",
    "rets = np.log(u_data/u_data.shift(1)).dropna()"
   ]
  },
  {
   "cell_type": "code",
   "execution_count": 77,
   "id": "former-bridges",
   "metadata": {},
   "outputs": [
    {
     "data": {
      "text/html": [
       "<div>\n",
       "<style scoped>\n",
       "    .dataframe tbody tr th:only-of-type {\n",
       "        vertical-align: middle;\n",
       "    }\n",
       "\n",
       "    .dataframe tbody tr th {\n",
       "        vertical-align: top;\n",
       "    }\n",
       "\n",
       "    .dataframe thead th {\n",
       "        text-align: right;\n",
       "    }\n",
       "</style>\n",
       "<table border=\"1\" class=\"dataframe\">\n",
       "  <thead>\n",
       "    <tr style=\"text-align: right;\">\n",
       "      <th>Symbols</th>\n",
       "      <th>SPY</th>\n",
       "      <th>FXE</th>\n",
       "      <th>EWJ</th>\n",
       "      <th>GLD</th>\n",
       "      <th>QQQ</th>\n",
       "      <th>SHV</th>\n",
       "      <th>DBA</th>\n",
       "      <th>USO</th>\n",
       "      <th>XBI</th>\n",
       "      <th>ILF</th>\n",
       "      <th>EPP</th>\n",
       "      <th>FEZ</th>\n",
       "    </tr>\n",
       "    <tr>\n",
       "      <th>Date</th>\n",
       "      <th></th>\n",
       "      <th></th>\n",
       "      <th></th>\n",
       "      <th></th>\n",
       "      <th></th>\n",
       "      <th></th>\n",
       "      <th></th>\n",
       "      <th></th>\n",
       "      <th></th>\n",
       "      <th></th>\n",
       "      <th></th>\n",
       "      <th></th>\n",
       "    </tr>\n",
       "  </thead>\n",
       "  <tbody>\n",
       "    <tr>\n",
       "      <th>2020-01-03</th>\n",
       "      <td>-0.007601</td>\n",
       "      <td>-0.000567</td>\n",
       "      <td>-0.011087</td>\n",
       "      <td>0.013181</td>\n",
       "      <td>-0.009202</td>\n",
       "      <td>0.000000</td>\n",
       "      <td>-0.011582</td>\n",
       "      <td>0.028474</td>\n",
       "      <td>-0.014040</td>\n",
       "      <td>-0.010100</td>\n",
       "      <td>-0.010316</td>\n",
       "      <td>-0.012929</td>\n",
       "    </tr>\n",
       "    <tr>\n",
       "      <th>2020-01-06</th>\n",
       "      <td>0.003808</td>\n",
       "      <td>0.002549</td>\n",
       "      <td>0.003541</td>\n",
       "      <td>0.010435</td>\n",
       "      <td>0.006423</td>\n",
       "      <td>-0.000091</td>\n",
       "      <td>0.002450</td>\n",
       "      <td>-0.001519</td>\n",
       "      <td>0.008639</td>\n",
       "      <td>-0.008154</td>\n",
       "      <td>0.002374</td>\n",
       "      <td>0.001717</td>\n",
       "    </tr>\n",
       "    <tr>\n",
       "      <th>2020-01-07</th>\n",
       "      <td>-0.002816</td>\n",
       "      <td>-0.004347</td>\n",
       "      <td>0.001682</td>\n",
       "      <td>0.003927</td>\n",
       "      <td>-0.000139</td>\n",
       "      <td>0.000181</td>\n",
       "      <td>0.002443</td>\n",
       "      <td>-0.002282</td>\n",
       "      <td>0.001592</td>\n",
       "      <td>-0.002635</td>\n",
       "      <td>-0.000647</td>\n",
       "      <td>-0.005653</td>\n",
       "    </tr>\n",
       "    <tr>\n",
       "      <th>2020-01-08</th>\n",
       "      <td>0.005315</td>\n",
       "      <td>-0.002940</td>\n",
       "      <td>0.000168</td>\n",
       "      <td>-0.007530</td>\n",
       "      <td>0.007488</td>\n",
       "      <td>0.000091</td>\n",
       "      <td>-0.004893</td>\n",
       "      <td>-0.036452</td>\n",
       "      <td>0.013584</td>\n",
       "      <td>-0.002936</td>\n",
       "      <td>0.004948</td>\n",
       "      <td>0.004918</td>\n",
       "    </tr>\n",
       "    <tr>\n",
       "      <th>2020-01-09</th>\n",
       "      <td>0.006758</td>\n",
       "      <td>-0.000190</td>\n",
       "      <td>0.007032</td>\n",
       "      <td>-0.005668</td>\n",
       "      <td>0.008438</td>\n",
       "      <td>0.000000</td>\n",
       "      <td>0.002450</td>\n",
       "      <td>-0.013519</td>\n",
       "      <td>0.002194</td>\n",
       "      <td>-0.008860</td>\n",
       "      <td>0.003642</td>\n",
       "      <td>0.004161</td>\n",
       "    </tr>\n",
       "  </tbody>\n",
       "</table>\n",
       "</div>"
      ],
      "text/plain": [
       "Symbols          SPY       FXE       EWJ       GLD       QQQ       SHV  \\\n",
       "Date                                                                     \n",
       "2020-01-03 -0.007601 -0.000567 -0.011087  0.013181 -0.009202  0.000000   \n",
       "2020-01-06  0.003808  0.002549  0.003541  0.010435  0.006423 -0.000091   \n",
       "2020-01-07 -0.002816 -0.004347  0.001682  0.003927 -0.000139  0.000181   \n",
       "2020-01-08  0.005315 -0.002940  0.000168 -0.007530  0.007488  0.000091   \n",
       "2020-01-09  0.006758 -0.000190  0.007032 -0.005668  0.008438  0.000000   \n",
       "\n",
       "Symbols          DBA       USO       XBI       ILF       EPP       FEZ  \n",
       "Date                                                                    \n",
       "2020-01-03 -0.011582  0.028474 -0.014040 -0.010100 -0.010316 -0.012929  \n",
       "2020-01-06  0.002450 -0.001519  0.008639 -0.008154  0.002374  0.001717  \n",
       "2020-01-07  0.002443 -0.002282  0.001592 -0.002635 -0.000647 -0.005653  \n",
       "2020-01-08 -0.004893 -0.036452  0.013584 -0.002936  0.004948  0.004918  \n",
       "2020-01-09  0.002450 -0.013519  0.002194 -0.008860  0.003642  0.004161  "
      ]
     },
     "execution_count": 77,
     "metadata": {},
     "output_type": "execute_result"
    }
   ],
   "source": [
    "rets.head()"
   ]
  },
  {
   "cell_type": "markdown",
   "id": "handled-first",
   "metadata": {},
   "source": [
    "## 3.2"
   ]
  },
  {
   "cell_type": "code",
   "execution_count": 78,
   "id": "handmade-spiritual",
   "metadata": {},
   "outputs": [
    {
     "data": {
      "text/html": [
       "<div>\n",
       "<style scoped>\n",
       "    .dataframe tbody tr th:only-of-type {\n",
       "        vertical-align: middle;\n",
       "    }\n",
       "\n",
       "    .dataframe tbody tr th {\n",
       "        vertical-align: top;\n",
       "    }\n",
       "\n",
       "    .dataframe thead th {\n",
       "        text-align: right;\n",
       "    }\n",
       "</style>\n",
       "<table border=\"1\" class=\"dataframe\">\n",
       "  <thead>\n",
       "    <tr style=\"text-align: right;\">\n",
       "      <th>Symbols</th>\n",
       "      <th>SPY</th>\n",
       "      <th>FXE</th>\n",
       "      <th>EWJ</th>\n",
       "      <th>GLD</th>\n",
       "      <th>QQQ</th>\n",
       "      <th>SHV</th>\n",
       "      <th>DBA</th>\n",
       "      <th>USO</th>\n",
       "      <th>XBI</th>\n",
       "      <th>ILF</th>\n",
       "      <th>EPP</th>\n",
       "      <th>FEZ</th>\n",
       "    </tr>\n",
       "    <tr>\n",
       "      <th>Symbols</th>\n",
       "      <th></th>\n",
       "      <th></th>\n",
       "      <th></th>\n",
       "      <th></th>\n",
       "      <th></th>\n",
       "      <th></th>\n",
       "      <th></th>\n",
       "      <th></th>\n",
       "      <th></th>\n",
       "      <th></th>\n",
       "      <th></th>\n",
       "      <th></th>\n",
       "    </tr>\n",
       "  </thead>\n",
       "  <tbody>\n",
       "    <tr>\n",
       "      <th>SPY</th>\n",
       "      <td>0.000451</td>\n",
       "      <td>2.501352e-06</td>\n",
       "      <td>2.856588e-04</td>\n",
       "      <td>4.178932e-05</td>\n",
       "      <td>4.492571e-04</td>\n",
       "      <td>-1.292545e-06</td>\n",
       "      <td>8.720220e-05</td>\n",
       "      <td>0.000428</td>\n",
       "      <td>0.000428</td>\n",
       "      <td>0.000623</td>\n",
       "      <td>0.000463</td>\n",
       "      <td>0.000448</td>\n",
       "    </tr>\n",
       "    <tr>\n",
       "      <th>FXE</th>\n",
       "      <td>0.000003</td>\n",
       "      <td>2.219826e-05</td>\n",
       "      <td>7.104694e-06</td>\n",
       "      <td>1.871771e-05</td>\n",
       "      <td>-5.775365e-07</td>\n",
       "      <td>1.709721e-07</td>\n",
       "      <td>3.689203e-06</td>\n",
       "      <td>-0.000025</td>\n",
       "      <td>-0.000006</td>\n",
       "      <td>0.000013</td>\n",
       "      <td>0.000008</td>\n",
       "      <td>0.000018</td>\n",
       "    </tr>\n",
       "    <tr>\n",
       "      <th>EWJ</th>\n",
       "      <td>0.000286</td>\n",
       "      <td>7.104694e-06</td>\n",
       "      <td>2.617893e-04</td>\n",
       "      <td>3.210394e-05</td>\n",
       "      <td>2.699442e-04</td>\n",
       "      <td>-6.057176e-07</td>\n",
       "      <td>6.542797e-05</td>\n",
       "      <td>0.000205</td>\n",
       "      <td>0.000275</td>\n",
       "      <td>0.000433</td>\n",
       "      <td>0.000329</td>\n",
       "      <td>0.000335</td>\n",
       "    </tr>\n",
       "    <tr>\n",
       "      <th>GLD</th>\n",
       "      <td>0.000042</td>\n",
       "      <td>1.871771e-05</td>\n",
       "      <td>3.210394e-05</td>\n",
       "      <td>1.517652e-04</td>\n",
       "      <td>6.195338e-05</td>\n",
       "      <td>2.015856e-07</td>\n",
       "      <td>1.420433e-05</td>\n",
       "      <td>0.000002</td>\n",
       "      <td>0.000056</td>\n",
       "      <td>0.000034</td>\n",
       "      <td>0.000046</td>\n",
       "      <td>0.000052</td>\n",
       "    </tr>\n",
       "    <tr>\n",
       "      <th>QQQ</th>\n",
       "      <td>0.000449</td>\n",
       "      <td>-5.775365e-07</td>\n",
       "      <td>2.699442e-04</td>\n",
       "      <td>6.195338e-05</td>\n",
       "      <td>5.120639e-04</td>\n",
       "      <td>-1.240832e-06</td>\n",
       "      <td>8.622799e-05</td>\n",
       "      <td>0.000400</td>\n",
       "      <td>0.000458</td>\n",
       "      <td>0.000571</td>\n",
       "      <td>0.000442</td>\n",
       "      <td>0.000418</td>\n",
       "    </tr>\n",
       "    <tr>\n",
       "      <th>SHV</th>\n",
       "      <td>-0.000001</td>\n",
       "      <td>1.709721e-07</td>\n",
       "      <td>-6.057176e-07</td>\n",
       "      <td>2.015856e-07</td>\n",
       "      <td>-1.240832e-06</td>\n",
       "      <td>3.107402e-08</td>\n",
       "      <td>-2.298584e-07</td>\n",
       "      <td>-0.000003</td>\n",
       "      <td>-0.000001</td>\n",
       "      <td>-0.000002</td>\n",
       "      <td>-0.000001</td>\n",
       "      <td>-0.000001</td>\n",
       "    </tr>\n",
       "    <tr>\n",
       "      <th>DBA</th>\n",
       "      <td>0.000087</td>\n",
       "      <td>3.689203e-06</td>\n",
       "      <td>6.542797e-05</td>\n",
       "      <td>1.420433e-05</td>\n",
       "      <td>8.622799e-05</td>\n",
       "      <td>-2.298584e-07</td>\n",
       "      <td>8.256413e-05</td>\n",
       "      <td>0.000132</td>\n",
       "      <td>0.000091</td>\n",
       "      <td>0.000146</td>\n",
       "      <td>0.000096</td>\n",
       "      <td>0.000106</td>\n",
       "    </tr>\n",
       "    <tr>\n",
       "      <th>USO</th>\n",
       "      <td>0.000428</td>\n",
       "      <td>-2.542352e-05</td>\n",
       "      <td>2.050238e-04</td>\n",
       "      <td>2.061274e-06</td>\n",
       "      <td>4.000021e-04</td>\n",
       "      <td>-3.126653e-06</td>\n",
       "      <td>1.323763e-04</td>\n",
       "      <td>0.002155</td>\n",
       "      <td>0.000447</td>\n",
       "      <td>0.000763</td>\n",
       "      <td>0.000495</td>\n",
       "      <td>0.000471</td>\n",
       "    </tr>\n",
       "    <tr>\n",
       "      <th>XBI</th>\n",
       "      <td>0.000428</td>\n",
       "      <td>-5.786525e-06</td>\n",
       "      <td>2.749525e-04</td>\n",
       "      <td>5.635492e-05</td>\n",
       "      <td>4.579280e-04</td>\n",
       "      <td>-1.203170e-06</td>\n",
       "      <td>9.109467e-05</td>\n",
       "      <td>0.000447</td>\n",
       "      <td>0.000677</td>\n",
       "      <td>0.000556</td>\n",
       "      <td>0.000439</td>\n",
       "      <td>0.000431</td>\n",
       "    </tr>\n",
       "    <tr>\n",
       "      <th>ILF</th>\n",
       "      <td>0.000623</td>\n",
       "      <td>1.251694e-05</td>\n",
       "      <td>4.329563e-04</td>\n",
       "      <td>3.388938e-05</td>\n",
       "      <td>5.708941e-04</td>\n",
       "      <td>-2.030745e-06</td>\n",
       "      <td>1.464786e-04</td>\n",
       "      <td>0.000763</td>\n",
       "      <td>0.000556</td>\n",
       "      <td>0.001198</td>\n",
       "      <td>0.000725</td>\n",
       "      <td>0.000699</td>\n",
       "    </tr>\n",
       "    <tr>\n",
       "      <th>EPP</th>\n",
       "      <td>0.000463</td>\n",
       "      <td>7.910627e-06</td>\n",
       "      <td>3.289657e-04</td>\n",
       "      <td>4.563167e-05</td>\n",
       "      <td>4.421829e-04</td>\n",
       "      <td>-1.285489e-06</td>\n",
       "      <td>9.557463e-05</td>\n",
       "      <td>0.000495</td>\n",
       "      <td>0.000439</td>\n",
       "      <td>0.000725</td>\n",
       "      <td>0.000573</td>\n",
       "      <td>0.000514</td>\n",
       "    </tr>\n",
       "    <tr>\n",
       "      <th>FEZ</th>\n",
       "      <td>0.000448</td>\n",
       "      <td>1.783490e-05</td>\n",
       "      <td>3.351511e-04</td>\n",
       "      <td>5.199075e-05</td>\n",
       "      <td>4.182042e-04</td>\n",
       "      <td>-1.278051e-06</td>\n",
       "      <td>1.055280e-04</td>\n",
       "      <td>0.000471</td>\n",
       "      <td>0.000431</td>\n",
       "      <td>0.000699</td>\n",
       "      <td>0.000514</td>\n",
       "      <td>0.000548</td>\n",
       "    </tr>\n",
       "  </tbody>\n",
       "</table>\n",
       "</div>"
      ],
      "text/plain": [
       "Symbols       SPY           FXE           EWJ           GLD           QQQ  \\\n",
       "Symbols                                                                     \n",
       "SPY      0.000451  2.501352e-06  2.856588e-04  4.178932e-05  4.492571e-04   \n",
       "FXE      0.000003  2.219826e-05  7.104694e-06  1.871771e-05 -5.775365e-07   \n",
       "EWJ      0.000286  7.104694e-06  2.617893e-04  3.210394e-05  2.699442e-04   \n",
       "GLD      0.000042  1.871771e-05  3.210394e-05  1.517652e-04  6.195338e-05   \n",
       "QQQ      0.000449 -5.775365e-07  2.699442e-04  6.195338e-05  5.120639e-04   \n",
       "SHV     -0.000001  1.709721e-07 -6.057176e-07  2.015856e-07 -1.240832e-06   \n",
       "DBA      0.000087  3.689203e-06  6.542797e-05  1.420433e-05  8.622799e-05   \n",
       "USO      0.000428 -2.542352e-05  2.050238e-04  2.061274e-06  4.000021e-04   \n",
       "XBI      0.000428 -5.786525e-06  2.749525e-04  5.635492e-05  4.579280e-04   \n",
       "ILF      0.000623  1.251694e-05  4.329563e-04  3.388938e-05  5.708941e-04   \n",
       "EPP      0.000463  7.910627e-06  3.289657e-04  4.563167e-05  4.421829e-04   \n",
       "FEZ      0.000448  1.783490e-05  3.351511e-04  5.199075e-05  4.182042e-04   \n",
       "\n",
       "Symbols           SHV           DBA       USO       XBI       ILF       EPP  \\\n",
       "Symbols                                                                       \n",
       "SPY     -1.292545e-06  8.720220e-05  0.000428  0.000428  0.000623  0.000463   \n",
       "FXE      1.709721e-07  3.689203e-06 -0.000025 -0.000006  0.000013  0.000008   \n",
       "EWJ     -6.057176e-07  6.542797e-05  0.000205  0.000275  0.000433  0.000329   \n",
       "GLD      2.015856e-07  1.420433e-05  0.000002  0.000056  0.000034  0.000046   \n",
       "QQQ     -1.240832e-06  8.622799e-05  0.000400  0.000458  0.000571  0.000442   \n",
       "SHV      3.107402e-08 -2.298584e-07 -0.000003 -0.000001 -0.000002 -0.000001   \n",
       "DBA     -2.298584e-07  8.256413e-05  0.000132  0.000091  0.000146  0.000096   \n",
       "USO     -3.126653e-06  1.323763e-04  0.002155  0.000447  0.000763  0.000495   \n",
       "XBI     -1.203170e-06  9.109467e-05  0.000447  0.000677  0.000556  0.000439   \n",
       "ILF     -2.030745e-06  1.464786e-04  0.000763  0.000556  0.001198  0.000725   \n",
       "EPP     -1.285489e-06  9.557463e-05  0.000495  0.000439  0.000725  0.000573   \n",
       "FEZ     -1.278051e-06  1.055280e-04  0.000471  0.000431  0.000699  0.000514   \n",
       "\n",
       "Symbols       FEZ  \n",
       "Symbols            \n",
       "SPY      0.000448  \n",
       "FXE      0.000018  \n",
       "EWJ      0.000335  \n",
       "GLD      0.000052  \n",
       "QQQ      0.000418  \n",
       "SHV     -0.000001  \n",
       "DBA      0.000106  \n",
       "USO      0.000471  \n",
       "XBI      0.000431  \n",
       "ILF      0.000699  \n",
       "EPP      0.000514  \n",
       "FEZ      0.000548  "
      ]
     },
     "execution_count": 78,
     "metadata": {},
     "output_type": "execute_result"
    }
   ],
   "source": [
    "cov = rets.loc[:\"2021-01-02\"].cov()\n",
    "cov"
   ]
  },
  {
   "cell_type": "code",
   "execution_count": 79,
   "id": "sustained-mitchell",
   "metadata": {},
   "outputs": [
    {
     "data": {
      "text/plain": [
       "Symbols\n",
       "FXE    0.005549\n",
       "EWJ    0.633720\n",
       "GLD    0.092708\n",
       "QQQ    0.996655\n",
       "SHV   -0.002867\n",
       "DBA    0.193454\n",
       "USO    0.949703\n",
       "XBI    0.950241\n",
       "ILF    1.382328\n",
       "EPP    1.028135\n",
       "FEZ    0.993915\n",
       "Name: SPY, dtype: float64"
      ]
     },
     "execution_count": 79,
     "metadata": {},
     "output_type": "execute_result"
    }
   ],
   "source": [
    "beta_vec = cov.iloc[1:,0]/cov.iloc[0,0]\n",
    "beta_vec"
   ]
  },
  {
   "cell_type": "code",
   "execution_count": 80,
   "id": "major-sixth",
   "metadata": {},
   "outputs": [
    {
     "data": {
      "text/html": [
       "<div>\n",
       "<style scoped>\n",
       "    .dataframe tbody tr th:only-of-type {\n",
       "        vertical-align: middle;\n",
       "    }\n",
       "\n",
       "    .dataframe tbody tr th {\n",
       "        vertical-align: top;\n",
       "    }\n",
       "\n",
       "    .dataframe thead th {\n",
       "        text-align: right;\n",
       "    }\n",
       "</style>\n",
       "<table border=\"1\" class=\"dataframe\">\n",
       "  <thead>\n",
       "    <tr style=\"text-align: right;\">\n",
       "      <th>Symbols</th>\n",
       "      <th>FXE</th>\n",
       "      <th>EWJ</th>\n",
       "      <th>GLD</th>\n",
       "      <th>QQQ</th>\n",
       "      <th>SHV</th>\n",
       "      <th>DBA</th>\n",
       "      <th>USO</th>\n",
       "      <th>XBI</th>\n",
       "      <th>ILF</th>\n",
       "      <th>EPP</th>\n",
       "      <th>FEZ</th>\n",
       "    </tr>\n",
       "    <tr>\n",
       "      <th>Date</th>\n",
       "      <th></th>\n",
       "      <th></th>\n",
       "      <th></th>\n",
       "      <th></th>\n",
       "      <th></th>\n",
       "      <th></th>\n",
       "      <th></th>\n",
       "      <th></th>\n",
       "      <th></th>\n",
       "      <th></th>\n",
       "      <th></th>\n",
       "    </tr>\n",
       "  </thead>\n",
       "  <tbody>\n",
       "    <tr>\n",
       "      <th>2020-01-03</th>\n",
       "      <td>-0.000567</td>\n",
       "      <td>-0.011087</td>\n",
       "      <td>0.013181</td>\n",
       "      <td>-0.009202</td>\n",
       "      <td>0.000000</td>\n",
       "      <td>-0.011582</td>\n",
       "      <td>0.028474</td>\n",
       "      <td>-0.014040</td>\n",
       "      <td>-0.010100</td>\n",
       "      <td>-0.010316</td>\n",
       "      <td>-0.012929</td>\n",
       "    </tr>\n",
       "    <tr>\n",
       "      <th>2020-01-06</th>\n",
       "      <td>0.002549</td>\n",
       "      <td>0.003541</td>\n",
       "      <td>0.010435</td>\n",
       "      <td>0.006423</td>\n",
       "      <td>-0.000091</td>\n",
       "      <td>0.002450</td>\n",
       "      <td>-0.001519</td>\n",
       "      <td>0.008639</td>\n",
       "      <td>-0.008154</td>\n",
       "      <td>0.002374</td>\n",
       "      <td>0.001717</td>\n",
       "    </tr>\n",
       "    <tr>\n",
       "      <th>2020-01-07</th>\n",
       "      <td>-0.004347</td>\n",
       "      <td>0.001682</td>\n",
       "      <td>0.003927</td>\n",
       "      <td>-0.000139</td>\n",
       "      <td>0.000181</td>\n",
       "      <td>0.002443</td>\n",
       "      <td>-0.002282</td>\n",
       "      <td>0.001592</td>\n",
       "      <td>-0.002635</td>\n",
       "      <td>-0.000647</td>\n",
       "      <td>-0.005653</td>\n",
       "    </tr>\n",
       "    <tr>\n",
       "      <th>2020-01-08</th>\n",
       "      <td>-0.002940</td>\n",
       "      <td>0.000168</td>\n",
       "      <td>-0.007530</td>\n",
       "      <td>0.007488</td>\n",
       "      <td>0.000091</td>\n",
       "      <td>-0.004893</td>\n",
       "      <td>-0.036452</td>\n",
       "      <td>0.013584</td>\n",
       "      <td>-0.002936</td>\n",
       "      <td>0.004948</td>\n",
       "      <td>0.004918</td>\n",
       "    </tr>\n",
       "    <tr>\n",
       "      <th>2020-01-09</th>\n",
       "      <td>-0.000190</td>\n",
       "      <td>0.007032</td>\n",
       "      <td>-0.005668</td>\n",
       "      <td>0.008438</td>\n",
       "      <td>0.000000</td>\n",
       "      <td>0.002450</td>\n",
       "      <td>-0.013519</td>\n",
       "      <td>0.002194</td>\n",
       "      <td>-0.008860</td>\n",
       "      <td>0.003642</td>\n",
       "      <td>0.004161</td>\n",
       "    </tr>\n",
       "  </tbody>\n",
       "</table>\n",
       "</div>"
      ],
      "text/plain": [
       "Symbols          FXE       EWJ       GLD       QQQ       SHV       DBA  \\\n",
       "Date                                                                     \n",
       "2020-01-03 -0.000567 -0.011087  0.013181 -0.009202  0.000000 -0.011582   \n",
       "2020-01-06  0.002549  0.003541  0.010435  0.006423 -0.000091  0.002450   \n",
       "2020-01-07 -0.004347  0.001682  0.003927 -0.000139  0.000181  0.002443   \n",
       "2020-01-08 -0.002940  0.000168 -0.007530  0.007488  0.000091 -0.004893   \n",
       "2020-01-09 -0.000190  0.007032 -0.005668  0.008438  0.000000  0.002450   \n",
       "\n",
       "Symbols          USO       XBI       ILF       EPP       FEZ  \n",
       "Date                                                          \n",
       "2020-01-03  0.028474 -0.014040 -0.010100 -0.010316 -0.012929  \n",
       "2020-01-06 -0.001519  0.008639 -0.008154  0.002374  0.001717  \n",
       "2020-01-07 -0.002282  0.001592 -0.002635 -0.000647 -0.005653  \n",
       "2020-01-08 -0.036452  0.013584 -0.002936  0.004948  0.004918  \n",
       "2020-01-09 -0.013519  0.002194 -0.008860  0.003642  0.004161  "
      ]
     },
     "execution_count": 80,
     "metadata": {},
     "output_type": "execute_result"
    }
   ],
   "source": [
    "rets = rets.drop(\"SPY\", axis=1)\n",
    "rets.head()"
   ]
  },
  {
   "cell_type": "code",
   "execution_count": null,
   "id": "consistent-longer",
   "metadata": {},
   "outputs": [],
   "source": []
  },
  {
   "cell_type": "code",
   "execution_count": 82,
   "id": "civic-tolerance",
   "metadata": {},
   "outputs": [],
   "source": [
    "cov = rets.loc[:\"2021-01-02\"].cov()\n",
    "\n",
    "def min_vol(w, cov_mat):\n",
    "    \n",
    "    w = np.array(w)\n",
    "    return w.T@cov_mat@w\n",
    "\n",
    "def calc_weights(B_t, beta_vec, cov_mat):\n",
    "    \n",
    "    cons = ({'type':'eq', 'fun': lambda x: np.sum(x)-1},\n",
    "            {'type':'eq', 'fun': lambda x: (beta_vec.T@x - B_t)})\n",
    "\n",
    "    init_guess = [1/len(cov_mat.columns) for _ in range(len(cov_mat.columns))]\n",
    "\n",
    "    opt_results = opt.minimize(min_vol, init_guess, method='SLSQP', constraints=cons, args=(cov_mat,))\n",
    "    return opt_results"
   ]
  },
  {
   "cell_type": "code",
   "execution_count": 84,
   "id": "twenty-sunset",
   "metadata": {},
   "outputs": [
    {
     "data": {
      "text/plain": [
       "array([-0.13248006,  0.08306886, -0.10259304,  0.20764897, -0.13536082,\n",
       "       -0.06802479,  0.1911771 ,  0.19165619,  0.33987925,  0.2183891 ,\n",
       "        0.20663924])"
      ]
     },
     "execution_count": 84,
     "metadata": {},
     "output_type": "execute_result"
    }
   ],
   "source": [
    "P_B1 = calc_weights(0.5, beta_vec, cov).x\n",
    "P_B2 = calc_weights(1.5, beta_vec, cov).x"
   ]
  },
  {
   "cell_type": "code",
   "execution_count": 85,
   "id": "answering-diploma",
   "metadata": {},
   "outputs": [
    {
     "data": {
      "text/plain": [
       "array([-0.   ,  0.088,  0.012,  0.138, -0.001,  0.026,  0.132,  0.132,\n",
       "        0.192,  0.143,  0.138])"
      ]
     },
     "execution_count": 85,
     "metadata": {},
     "output_type": "execute_result"
    }
   ],
   "source": [
    "# 1 = lam*(beta_vect.T@P_B1) + (1-lam)*(beta_vect.T@P_B2)\n",
    "lam = 0.5\n",
    "P_B3 = lam*(P_B1) + (1-lam)*(P_B2)\n",
    "P_B3.round(3)"
   ]
  },
  {
   "cell_type": "markdown",
   "id": "skilled-siemens",
   "metadata": {},
   "source": [
    "##### "
   ]
  },
  {
   "cell_type": "markdown",
   "id": "chemical-democrat",
   "metadata": {},
   "source": [
    "## 3.3\n",
    "### a"
   ]
  },
  {
   "cell_type": "code",
   "execution_count": 86,
   "id": "terminal-monroe",
   "metadata": {},
   "outputs": [],
   "source": [
    "data = pdr.get_data_yahoo([\"SPY\", \"AAPL\"], start=\"2020-01-01\", end=\"2021-03-30\")[\"Adj Close\"]\n",
    "rets2 = np.log(data/data.shift(1)).dropna()"
   ]
  },
  {
   "cell_type": "code",
   "execution_count": 87,
   "id": "cosmetic-ballet",
   "metadata": {},
   "outputs": [
    {
     "data": {
      "text/html": [
       "<div>\n",
       "<style scoped>\n",
       "    .dataframe tbody tr th:only-of-type {\n",
       "        vertical-align: middle;\n",
       "    }\n",
       "\n",
       "    .dataframe tbody tr th {\n",
       "        vertical-align: top;\n",
       "    }\n",
       "\n",
       "    .dataframe thead th {\n",
       "        text-align: right;\n",
       "    }\n",
       "</style>\n",
       "<table border=\"1\" class=\"dataframe\">\n",
       "  <thead>\n",
       "    <tr style=\"text-align: right;\">\n",
       "      <th>Symbols</th>\n",
       "      <th>SPY</th>\n",
       "      <th>AAPL</th>\n",
       "    </tr>\n",
       "    <tr>\n",
       "      <th>Symbols</th>\n",
       "      <th></th>\n",
       "      <th></th>\n",
       "    </tr>\n",
       "  </thead>\n",
       "  <tbody>\n",
       "    <tr>\n",
       "      <th>SPY</th>\n",
       "      <td>0.000451</td>\n",
       "      <td>0.000520</td>\n",
       "    </tr>\n",
       "    <tr>\n",
       "      <th>AAPL</th>\n",
       "      <td>0.000520</td>\n",
       "      <td>0.000866</td>\n",
       "    </tr>\n",
       "  </tbody>\n",
       "</table>\n",
       "</div>"
      ],
      "text/plain": [
       "Symbols       SPY      AAPL\n",
       "Symbols                    \n",
       "SPY      0.000451  0.000520\n",
       "AAPL     0.000520  0.000866"
      ]
     },
     "execution_count": 87,
     "metadata": {},
     "output_type": "execute_result"
    }
   ],
   "source": [
    "cov2 = rets2.loc[:\"2021-01-02\"].cov()\n",
    "cov2"
   ]
  },
  {
   "cell_type": "code",
   "execution_count": 88,
   "id": "persistent-pierre",
   "metadata": {},
   "outputs": [
    {
     "data": {
      "text/plain": [
       "Symbols\n",
       "AAPL    1.153873\n",
       "Name: SPY, dtype: float64"
      ]
     },
     "execution_count": 88,
     "metadata": {},
     "output_type": "execute_result"
    }
   ],
   "source": [
    "B_A = cov2.iloc[1:,0]/cov2.iloc[0,0]\n",
    "B_A"
   ]
  },
  {
   "cell_type": "markdown",
   "id": "rapid-purple",
   "metadata": {},
   "source": [
    "### b"
   ]
  },
  {
   "cell_type": "code",
   "execution_count": 89,
   "id": "supported-revolution",
   "metadata": {},
   "outputs": [
    {
     "data": {
      "text/plain": [
       "array([-0.04079075,  0.08630269, -0.02317688,  0.15977637, -0.04248632,\n",
       "       -0.00279515,  0.1499161 ,  0.15031932,  0.23769844,  0.16608374,\n",
       "        0.15915245])"
      ]
     },
     "execution_count": 89,
     "metadata": {},
     "output_type": "execute_result"
    }
   ],
   "source": [
    "P_BA = calc_weights(B_A, beta_vec, cov).x\n",
    "P_BA"
   ]
  },
  {
   "cell_type": "code",
   "execution_count": 90,
   "id": "sunrise-handbook",
   "metadata": {},
   "outputs": [],
   "source": [
    "rho1 = rets.loc[:\"2021-01-02\"].mean()\n",
    "rho2 = rets2.loc[:\"2021-01-02\", \"AAPL\"].mean()"
   ]
  },
  {
   "cell_type": "code",
   "execution_count": 91,
   "id": "sixth-spotlight",
   "metadata": {},
   "outputs": [
    {
     "data": {
      "text/plain": [
       "0.1282285119458973"
      ]
     },
     "execution_count": 91,
     "metadata": {},
     "output_type": "execute_result"
    }
   ],
   "source": [
    "# Long Apple 50%, Short Beta Portfolio 50%\n",
    "hedge_port_w = np.append((P_BA* -0.5), 0.5)\n",
    "rho = np.append(rho1, rho2)\n",
    "(hedge_port_w.T@rho)*100"
   ]
  },
  {
   "cell_type": "code",
   "execution_count": 92,
   "id": "meaningful-concrete",
   "metadata": {},
   "outputs": [
    {
     "data": {
      "text/plain": [
       "0.0"
      ]
     },
     "execution_count": 92,
     "metadata": {},
     "output_type": "execute_result"
    }
   ],
   "source": [
    "# Hedged Portfolio Beta\n",
    "(hedge_port_w.T@np.append(beta_vec, B_A)).round(3)"
   ]
  },
  {
   "cell_type": "markdown",
   "id": "chemical-nevada",
   "metadata": {},
   "source": [
    "### c"
   ]
  },
  {
   "cell_type": "code",
   "execution_count": 93,
   "id": "terminal-chrome",
   "metadata": {},
   "outputs": [
    {
     "data": {
      "text/html": [
       "<div>\n",
       "<style scoped>\n",
       "    .dataframe tbody tr th:only-of-type {\n",
       "        vertical-align: middle;\n",
       "    }\n",
       "\n",
       "    .dataframe tbody tr th {\n",
       "        vertical-align: top;\n",
       "    }\n",
       "\n",
       "    .dataframe thead th {\n",
       "        text-align: right;\n",
       "    }\n",
       "</style>\n",
       "<table border=\"1\" class=\"dataframe\">\n",
       "  <thead>\n",
       "    <tr style=\"text-align: right;\">\n",
       "      <th>Symbols</th>\n",
       "      <th>AAPL</th>\n",
       "      <th>FXE</th>\n",
       "      <th>EWJ</th>\n",
       "      <th>GLD</th>\n",
       "      <th>QQQ</th>\n",
       "      <th>SHV</th>\n",
       "      <th>DBA</th>\n",
       "      <th>USO</th>\n",
       "      <th>XBI</th>\n",
       "      <th>ILF</th>\n",
       "      <th>EPP</th>\n",
       "      <th>FEZ</th>\n",
       "    </tr>\n",
       "    <tr>\n",
       "      <th>Symbols</th>\n",
       "      <th></th>\n",
       "      <th></th>\n",
       "      <th></th>\n",
       "      <th></th>\n",
       "      <th></th>\n",
       "      <th></th>\n",
       "      <th></th>\n",
       "      <th></th>\n",
       "      <th></th>\n",
       "      <th></th>\n",
       "      <th></th>\n",
       "      <th></th>\n",
       "    </tr>\n",
       "  </thead>\n",
       "  <tbody>\n",
       "    <tr>\n",
       "      <th>AAPL</th>\n",
       "      <td>0.000784</td>\n",
       "      <td>2.382575e-06</td>\n",
       "      <td>2.502146e-04</td>\n",
       "      <td>6.419632e-05</td>\n",
       "      <td>5.399652e-04</td>\n",
       "      <td>-1.082150e-06</td>\n",
       "      <td>7.971510e-05</td>\n",
       "      <td>0.000381</td>\n",
       "      <td>4.517523e-04</td>\n",
       "      <td>0.000538</td>\n",
       "      <td>0.000419</td>\n",
       "      <td>0.000376</td>\n",
       "    </tr>\n",
       "    <tr>\n",
       "      <th>FXE</th>\n",
       "      <td>0.000002</td>\n",
       "      <td>2.108474e-05</td>\n",
       "      <td>7.609077e-06</td>\n",
       "      <td>1.960376e-05</td>\n",
       "      <td>1.866238e-06</td>\n",
       "      <td>1.551167e-07</td>\n",
       "      <td>5.077818e-06</td>\n",
       "      <td>-0.000018</td>\n",
       "      <td>-8.431568e-07</td>\n",
       "      <td>0.000015</td>\n",
       "      <td>0.000009</td>\n",
       "      <td>0.000018</td>\n",
       "    </tr>\n",
       "    <tr>\n",
       "      <th>EWJ</th>\n",
       "      <td>0.000250</td>\n",
       "      <td>7.609077e-06</td>\n",
       "      <td>2.296743e-04</td>\n",
       "      <td>2.965991e-05</td>\n",
       "      <td>2.339027e-04</td>\n",
       "      <td>-4.875494e-07</td>\n",
       "      <td>5.496560e-05</td>\n",
       "      <td>0.000176</td>\n",
       "      <td>2.457470e-04</td>\n",
       "      <td>0.000370</td>\n",
       "      <td>0.000280</td>\n",
       "      <td>0.000283</td>\n",
       "    </tr>\n",
       "    <tr>\n",
       "      <th>GLD</th>\n",
       "      <td>0.000064</td>\n",
       "      <td>1.960376e-05</td>\n",
       "      <td>2.965991e-05</td>\n",
       "      <td>1.444930e-04</td>\n",
       "      <td>5.746183e-05</td>\n",
       "      <td>1.903866e-07</td>\n",
       "      <td>1.511318e-05</td>\n",
       "      <td>0.000004</td>\n",
       "      <td>5.871248e-05</td>\n",
       "      <td>0.000035</td>\n",
       "      <td>0.000043</td>\n",
       "      <td>0.000047</td>\n",
       "    </tr>\n",
       "    <tr>\n",
       "      <th>QQQ</th>\n",
       "      <td>0.000540</td>\n",
       "      <td>1.866238e-06</td>\n",
       "      <td>2.339027e-04</td>\n",
       "      <td>5.746183e-05</td>\n",
       "      <td>4.600212e-04</td>\n",
       "      <td>-9.908576e-07</td>\n",
       "      <td>7.389804e-05</td>\n",
       "      <td>0.000334</td>\n",
       "      <td>4.198110e-04</td>\n",
       "      <td>0.000493</td>\n",
       "      <td>0.000377</td>\n",
       "      <td>0.000355</td>\n",
       "    </tr>\n",
       "    <tr>\n",
       "      <th>SHV</th>\n",
       "      <td>-0.000001</td>\n",
       "      <td>1.551167e-07</td>\n",
       "      <td>-4.875494e-07</td>\n",
       "      <td>1.903866e-07</td>\n",
       "      <td>-9.908576e-07</td>\n",
       "      <td>2.599597e-08</td>\n",
       "      <td>-1.852656e-07</td>\n",
       "      <td>-0.000003</td>\n",
       "      <td>-9.224578e-07</td>\n",
       "      <td>-0.000002</td>\n",
       "      <td>-0.000001</td>\n",
       "      <td>-0.000001</td>\n",
       "    </tr>\n",
       "    <tr>\n",
       "      <th>DBA</th>\n",
       "      <td>0.000080</td>\n",
       "      <td>5.077818e-06</td>\n",
       "      <td>5.496560e-05</td>\n",
       "      <td>1.511318e-05</td>\n",
       "      <td>7.389804e-05</td>\n",
       "      <td>-1.852656e-07</td>\n",
       "      <td>7.664948e-05</td>\n",
       "      <td>0.000123</td>\n",
       "      <td>7.983189e-05</td>\n",
       "      <td>0.000123</td>\n",
       "      <td>0.000082</td>\n",
       "      <td>0.000089</td>\n",
       "    </tr>\n",
       "    <tr>\n",
       "      <th>USO</th>\n",
       "      <td>0.000381</td>\n",
       "      <td>-1.816965e-05</td>\n",
       "      <td>1.755078e-04</td>\n",
       "      <td>3.639581e-06</td>\n",
       "      <td>3.335903e-04</td>\n",
       "      <td>-2.556352e-06</td>\n",
       "      <td>1.226882e-04</td>\n",
       "      <td>0.001855</td>\n",
       "      <td>3.747746e-04</td>\n",
       "      <td>0.000637</td>\n",
       "      <td>0.000416</td>\n",
       "      <td>0.000391</td>\n",
       "    </tr>\n",
       "    <tr>\n",
       "      <th>XBI</th>\n",
       "      <td>0.000452</td>\n",
       "      <td>-8.431568e-07</td>\n",
       "      <td>2.457470e-04</td>\n",
       "      <td>5.871248e-05</td>\n",
       "      <td>4.198110e-04</td>\n",
       "      <td>-9.224578e-07</td>\n",
       "      <td>7.983189e-05</td>\n",
       "      <td>0.000375</td>\n",
       "      <td>6.729501e-04</td>\n",
       "      <td>0.000496</td>\n",
       "      <td>0.000376</td>\n",
       "      <td>0.000369</td>\n",
       "    </tr>\n",
       "    <tr>\n",
       "      <th>ILF</th>\n",
       "      <td>0.000538</td>\n",
       "      <td>1.504758e-05</td>\n",
       "      <td>3.704263e-04</td>\n",
       "      <td>3.515308e-05</td>\n",
       "      <td>4.925267e-04</td>\n",
       "      <td>-1.640399e-06</td>\n",
       "      <td>1.234829e-04</td>\n",
       "      <td>0.000637</td>\n",
       "      <td>4.959232e-04</td>\n",
       "      <td>0.001037</td>\n",
       "      <td>0.000610</td>\n",
       "      <td>0.000590</td>\n",
       "    </tr>\n",
       "    <tr>\n",
       "      <th>EPP</th>\n",
       "      <td>0.000419</td>\n",
       "      <td>9.123442e-06</td>\n",
       "      <td>2.798544e-04</td>\n",
       "      <td>4.298272e-05</td>\n",
       "      <td>3.772099e-04</td>\n",
       "      <td>-1.045989e-06</td>\n",
       "      <td>8.189609e-05</td>\n",
       "      <td>0.000416</td>\n",
       "      <td>3.763057e-04</td>\n",
       "      <td>0.000610</td>\n",
       "      <td>0.000483</td>\n",
       "      <td>0.000430</td>\n",
       "    </tr>\n",
       "    <tr>\n",
       "      <th>FEZ</th>\n",
       "      <td>0.000376</td>\n",
       "      <td>1.777782e-05</td>\n",
       "      <td>2.834210e-04</td>\n",
       "      <td>4.700301e-05</td>\n",
       "      <td>3.545862e-04</td>\n",
       "      <td>-1.042468e-06</td>\n",
       "      <td>8.874100e-05</td>\n",
       "      <td>0.000391</td>\n",
       "      <td>3.687802e-04</td>\n",
       "      <td>0.000590</td>\n",
       "      <td>0.000430</td>\n",
       "      <td>0.000461</td>\n",
       "    </tr>\n",
       "  </tbody>\n",
       "</table>\n",
       "</div>"
      ],
      "text/plain": [
       "Symbols      AAPL           FXE           EWJ           GLD           QQQ  \\\n",
       "Symbols                                                                     \n",
       "AAPL     0.000784  2.382575e-06  2.502146e-04  6.419632e-05  5.399652e-04   \n",
       "FXE      0.000002  2.108474e-05  7.609077e-06  1.960376e-05  1.866238e-06   \n",
       "EWJ      0.000250  7.609077e-06  2.296743e-04  2.965991e-05  2.339027e-04   \n",
       "GLD      0.000064  1.960376e-05  2.965991e-05  1.444930e-04  5.746183e-05   \n",
       "QQQ      0.000540  1.866238e-06  2.339027e-04  5.746183e-05  4.600212e-04   \n",
       "SHV     -0.000001  1.551167e-07 -4.875494e-07  1.903866e-07 -9.908576e-07   \n",
       "DBA      0.000080  5.077818e-06  5.496560e-05  1.511318e-05  7.389804e-05   \n",
       "USO      0.000381 -1.816965e-05  1.755078e-04  3.639581e-06  3.335903e-04   \n",
       "XBI      0.000452 -8.431568e-07  2.457470e-04  5.871248e-05  4.198110e-04   \n",
       "ILF      0.000538  1.504758e-05  3.704263e-04  3.515308e-05  4.925267e-04   \n",
       "EPP      0.000419  9.123442e-06  2.798544e-04  4.298272e-05  3.772099e-04   \n",
       "FEZ      0.000376  1.777782e-05  2.834210e-04  4.700301e-05  3.545862e-04   \n",
       "\n",
       "Symbols           SHV           DBA       USO           XBI       ILF  \\\n",
       "Symbols                                                                 \n",
       "AAPL    -1.082150e-06  7.971510e-05  0.000381  4.517523e-04  0.000538   \n",
       "FXE      1.551167e-07  5.077818e-06 -0.000018 -8.431568e-07  0.000015   \n",
       "EWJ     -4.875494e-07  5.496560e-05  0.000176  2.457470e-04  0.000370   \n",
       "GLD      1.903866e-07  1.511318e-05  0.000004  5.871248e-05  0.000035   \n",
       "QQQ     -9.908576e-07  7.389804e-05  0.000334  4.198110e-04  0.000493   \n",
       "SHV      2.599597e-08 -1.852656e-07 -0.000003 -9.224578e-07 -0.000002   \n",
       "DBA     -1.852656e-07  7.664948e-05  0.000123  7.983189e-05  0.000123   \n",
       "USO     -2.556352e-06  1.226882e-04  0.001855  3.747746e-04  0.000637   \n",
       "XBI     -9.224578e-07  7.983189e-05  0.000375  6.729501e-04  0.000496   \n",
       "ILF     -1.640399e-06  1.234829e-04  0.000637  4.959232e-04  0.001037   \n",
       "EPP     -1.045989e-06  8.189609e-05  0.000416  3.763057e-04  0.000610   \n",
       "FEZ     -1.042468e-06  8.874100e-05  0.000391  3.687802e-04  0.000590   \n",
       "\n",
       "Symbols       EPP       FEZ  \n",
       "Symbols                      \n",
       "AAPL     0.000419  0.000376  \n",
       "FXE      0.000009  0.000018  \n",
       "EWJ      0.000280  0.000283  \n",
       "GLD      0.000043  0.000047  \n",
       "QQQ      0.000377  0.000355  \n",
       "SHV     -0.000001 -0.000001  \n",
       "DBA      0.000082  0.000089  \n",
       "USO      0.000416  0.000391  \n",
       "XBI      0.000376  0.000369  \n",
       "ILF      0.000610  0.000590  \n",
       "EPP      0.000483  0.000430  \n",
       "FEZ      0.000430  0.000461  "
      ]
     },
     "execution_count": 93,
     "metadata": {},
     "output_type": "execute_result"
    }
   ],
   "source": [
    "v_data = pdr.get_data_yahoo([\"AAPL\"] + universe, start=\"2020-01-01\", end=\"2021-03-30\")[\"Adj Close\"]\n",
    "v_rets = np.log(v_data/v_data.shift(1)).dropna()\n",
    "v_cov = v_rets.cov()\n",
    "v_cov"
   ]
  },
  {
   "cell_type": "code",
   "execution_count": 94,
   "id": "unlimited-siemens",
   "metadata": {},
   "outputs": [],
   "source": [
    "v_beta_vec = np.append(B_A, beta_vec)\n",
    "P_BN = calc_weights(0, v_beta_vec, v_cov).x"
   ]
  },
  {
   "cell_type": "code",
   "execution_count": 95,
   "id": "selective-overall",
   "metadata": {},
   "outputs": [
    {
     "data": {
      "text/plain": [
       "-0.0"
      ]
     },
     "execution_count": 95,
     "metadata": {},
     "output_type": "execute_result"
    }
   ],
   "source": [
    "(P_BN.T@v_beta_vec).round()"
   ]
  },
  {
   "cell_type": "code",
   "execution_count": 96,
   "id": "specified-tracy",
   "metadata": {},
   "outputs": [
    {
     "data": {
      "text/plain": [
       "0.0001506074751241534"
      ]
     },
     "execution_count": 96,
     "metadata": {},
     "output_type": "execute_result"
    }
   ],
   "source": [
    "P_BN.T@v_rets.mean()"
   ]
  },
  {
   "cell_type": "code",
   "execution_count": 97,
   "id": "adjustable-complexity",
   "metadata": {},
   "outputs": [
    {
     "data": {
      "text/plain": [
       "array([-0.03513274,  0.26343776,  0.10011013,  0.24075131,  0.0057483 ,\n",
       "        0.26563652,  0.21456509,  0.01770927,  0.01775735, -0.09458224,\n",
       "       -0.00244932,  0.00644857])"
      ]
     },
     "execution_count": 97,
     "metadata": {},
     "output_type": "execute_result"
    }
   ],
   "source": [
    "P_BN"
   ]
  },
  {
   "cell_type": "code",
   "execution_count": null,
   "id": "authorized-korea",
   "metadata": {},
   "outputs": [],
   "source": []
  }
 ],
 "metadata": {
  "kernelspec": {
   "display_name": "Python 3",
   "language": "python",
   "name": "python3"
  },
  "language_info": {
   "codemirror_mode": {
    "name": "ipython",
    "version": 3
   },
   "file_extension": ".py",
   "mimetype": "text/x-python",
   "name": "python",
   "nbconvert_exporter": "python",
   "pygments_lexer": "ipython3",
   "version": "3.9.2"
  }
 },
 "nbformat": 4,
 "nbformat_minor": 5
}
